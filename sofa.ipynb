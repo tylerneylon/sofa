{
 "cells": [
  {
   "cell_type": "markdown",
   "id": "0dbc06e3-e9a5-4f51-bbf2-2d75c05026fa",
   "metadata": {},
   "source": [
    "# sofa\n",
    "\n",
    "The purpose of this notebook is to try out some initial explorations\n",
    "of the moving sofa problem."
   ]
  },
  {
   "cell_type": "markdown",
   "id": "c8a33687-dc2d-4041-ba60-6e54a18ce8cb",
   "metadata": {},
   "source": [
    "## Imports"
   ]
  },
  {
   "cell_type": "code",
   "execution_count": 142,
   "id": "14b52ee8-6326-4d77-92ce-04f072efbd77",
   "metadata": {},
   "outputs": [],
   "source": [
    "%matplotlib inline\n",
    "\n",
    "import math\n",
    "import random\n",
    "\n",
    "import matplotlib.pyplot as plt\n",
    "import numpy as np\n",
    "from PIL import Image, ImageDraw"
   ]
  },
  {
   "cell_type": "code",
   "execution_count": 4,
   "id": "5d58d4d7-bc39-4ff1-8395-c99b8ea84709",
   "metadata": {},
   "outputs": [],
   "source": [
    "from IPython.display import display"
   ]
  },
  {
   "cell_type": "markdown",
   "id": "8a74e2ef-3e21-4cb6-8776-3327e3e26924",
   "metadata": {},
   "source": [
    "## Constants"
   ]
  },
  {
   "cell_type": "code",
   "execution_count": 34,
   "id": "65d0b7df-c3a9-41b1-928c-84783124d7e9",
   "metadata": {},
   "outputs": [],
   "source": [
    "pi = math.pi"
   ]
  },
  {
   "cell_type": "markdown",
   "id": "48971312-7bae-48d4-8729-7e7814117821",
   "metadata": {},
   "source": [
    "## Learn how to make and show a simple image"
   ]
  },
  {
   "cell_type": "code",
   "execution_count": 5,
   "id": "41f00523-7220-4c75-855d-526f6072bdc8",
   "metadata": {},
   "outputs": [],
   "source": [
    "np_arr = np.zeros((200, 200, 3))"
   ]
  },
  {
   "cell_type": "code",
   "execution_count": 6,
   "id": "f221f64b-d0e7-4bd2-9f72-9a5a8580cbac",
   "metadata": {},
   "outputs": [],
   "source": [
    "im = Image.fromarray(np_arr.astype(np.uint8))"
   ]
  },
  {
   "cell_type": "code",
   "execution_count": 7,
   "id": "35605503-c52c-4b47-88b8-3989d1626395",
   "metadata": {},
   "outputs": [
    {
     "data": {
      "image/png": "[encoded data removed]",
      "text/plain": [
       "<PIL.Image.Image image mode=RGB size=200x200>"
      ]
     },
     "execution_count": 7,
     "metadata": {},
     "output_type": "execute_result"
    }
   ],
   "source": [
    "im"
   ]
  },
  {
   "cell_type": "code",
   "execution_count": 8,
   "id": "d07c21e2-ede0-44af-bf8e-5fb6872d814b",
   "metadata": {},
   "outputs": [],
   "source": [
    "# Let's make a 20-pixel-wide hallway corner.\n",
    "\n",
    "HALLWAY_WIDTH = 20"
   ]
  },
  {
   "cell_type": "code",
   "execution_count": 10,
   "id": "5d75d00f-7f38-452a-b8e3-2aab9c5d036a",
   "metadata": {},
   "outputs": [
    {
     "data": {
      "image/png": "[encoded data removed]",
      "text/plain": [
       "<PIL.Image.Image image mode=RGB size=200x200>"
      ]
     },
     "execution_count": 10,
     "metadata": {},
     "output_type": "execute_result"
    }
   ],
   "source": [
    "# Let's make a 20-pixel-wide hallway corner.\n",
    "\n",
    "x_lo = 100\n",
    "x_hi = x_lo + HALLWAY_WIDTH\n",
    "\n",
    "y_lo = 100 - HALLWAY_WIDTH\n",
    "y_hi = 100\n",
    "\n",
    "np_arr = np.zeros((200, 200, 3))\n",
    "np_arr[y_lo:y_hi, x_lo:] = 255\n",
    "np_arr[:y_hi, x_lo:x_hi] = 255\n",
    "im = Image.fromarray(np_arr.astype(np.uint8))\n",
    "im"
   ]
  },
  {
   "cell_type": "markdown",
   "id": "e17b541a-ab7b-4e52-9638-b6fa513a40e9",
   "metadata": {},
   "source": [
    "# Learn how to rotate an image"
   ]
  },
  {
   "cell_type": "code",
   "execution_count": 11,
   "id": "2755588c-d220-4da6-8d9b-e31cc5d8bba8",
   "metadata": {},
   "outputs": [
    {
     "data": {
      "image/png": "[encoded data removed]",
      "text/plain": [
       "<PIL.Image.Image image mode=RGB size=200x200>"
      ]
     },
     "execution_count": 11,
     "metadata": {},
     "output_type": "execute_result"
    }
   ],
   "source": [
    "im.rotate(10)"
   ]
  },
  {
   "cell_type": "markdown",
   "id": "99590b98-a62e-4653-b365-807003a59242",
   "metadata": {},
   "source": [
    "# Learn how to take the intersection of two images"
   ]
  },
  {
   "cell_type": "code",
   "execution_count": 12,
   "id": "eab4f45a-4f91-4a8a-99a0-def6d1c2b604",
   "metadata": {},
   "outputs": [
    {
     "data": {
      "text/plain": [
       "(0.0, 1.0)"
      ]
     },
     "execution_count": 12,
     "metadata": {},
     "output_type": "execute_result"
    }
   ],
   "source": [
    "np_arr = np.asarray(im).astype(np.float32) / 255\n",
    "np.min(np_arr), np.max(np_arr)"
   ]
  },
  {
   "cell_type": "code",
   "execution_count": 13,
   "id": "2bbe85e5-0139-47ac-8e87-8ba069adb5ea",
   "metadata": {},
   "outputs": [],
   "source": [
    "def to_array(im):\n",
    "    return np.asarray(im).astype(np.float32) / 255"
   ]
  },
  {
   "cell_type": "code",
   "execution_count": 14,
   "id": "03c59b77-7668-424b-b89e-ae30b179956d",
   "metadata": {},
   "outputs": [],
   "source": [
    "def to_im(arr):\n",
    "    return Image.fromarray((arr * 255).astype(np.uint8))"
   ]
  },
  {
   "cell_type": "code",
   "execution_count": 15,
   "id": "be888770-5f85-4f70-91ea-f23dcee1bc52",
   "metadata": {},
   "outputs": [],
   "source": [
    "def intersect_images(im1, im2):\n",
    "    arr1 = to_array(im1)\n",
    "    arr2 = to_array(im2)\n",
    "    return to_im(arr1 * arr2)"
   ]
  },
  {
   "cell_type": "code",
   "execution_count": 16,
   "id": "470b5143-09e7-4d98-94c4-15b8e83c50e0",
   "metadata": {},
   "outputs": [
    {
     "data": {
      "image/png": "[encoded data removed]",
      "text/plain": [
       "<PIL.Image.Image image mode=RGB size=200x200>"
      ]
     },
     "execution_count": 16,
     "metadata": {},
     "output_type": "execute_result"
    }
   ],
   "source": [
    "intersect_images(im, im.rotate(10))"
   ]
  },
  {
   "cell_type": "markdown",
   "id": "c612ba10-360d-43e4-879a-9606d44181fc",
   "metadata": {},
   "source": [
    "## Be able to find the intersection of an arbitrary rotate around an arbitrary point"
   ]
  },
  {
   "cell_type": "code",
   "execution_count": 17,
   "id": "f2769920-c21b-43a3-a64e-57d5545be65d",
   "metadata": {},
   "outputs": [
    {
     "data": {
      "text/plain": [
       "(200, 200)"
      ]
     },
     "execution_count": 17,
     "metadata": {},
     "output_type": "execute_result"
    }
   ],
   "source": [
    "im.size"
   ]
  },
  {
   "cell_type": "code",
   "execution_count": 18,
   "id": "43409e8f-b047-4f4a-bd32-5944ff20e6fd",
   "metadata": {},
   "outputs": [],
   "source": [
    "def find_next_intersection(pos, isect, angle, center):\n",
    "    ''' This accepts the following parameters:\n",
    "        * pos    = The hallway in its current position; an Image object.\n",
    "        * isect  = The intersection of all previous steps; an Image object.\n",
    "        * angle  = The angle, in degrees (with apologies), of the rotation.\n",
    "        * center = The center of rotation. (0, 0) is the original outside corner.\n",
    "                   (1, 1) is the original inside corner.\n",
    "    '''\n",
    "    \n",
    "    # Convert the center to image-based coordinates.\n",
    "    w, h = im.size\n",
    "    center = (\n",
    "        w // 2 - center[1] * HALLWAY_WIDTH,\n",
    "        h // 2 + center[0] * HALLWAY_WIDTH\n",
    "    )\n",
    "    \n",
    "    # XXX This whole function while I write it.\n",
    "    \n",
    "    print()\n",
    "    print('pos:')\n",
    "    display(pos)\n",
    "    \n",
    "    print()\n",
    "    print('isect:')\n",
    "    display(isect)\n",
    "    \n",
    "    num_steps = 3\n",
    "    \n",
    "    for i in range(num_steps):\n",
    "        pos = pos.rotate(angle / num_steps, center=center)\n",
    "        print('\\npos:'); display(pos)\n",
    "        isect = intersect_images(isect, pos)\n",
    "        print('\\nisect:'); display(isect)\n",
    "    \n",
    "    "
   ]
  },
  {
   "cell_type": "code",
   "execution_count": 19,
   "id": "eb322798-5084-4802-a58c-a77296783665",
   "metadata": {},
   "outputs": [
    {
     "name": "stdout",
     "output_type": "stream",
     "text": [
      "\n",
      "pos:\n"
     ]
    },
    {
     "data": {
      "image/png": "[encoded data removed]",
      "text/plain": [
       "<PIL.Image.Image image mode=RGB size=200x200>"
      ]
     },
     "metadata": {},
     "output_type": "display_data"
    },
    {
     "name": "stdout",
     "output_type": "stream",
     "text": [
      "\n",
      "isect:\n"
     ]
    },
    {
     "data": {
      "image/png": "[encoded data removed]",
      "text/plain": [
       "<PIL.Image.Image image mode=RGB size=200x200>"
      ]
     },
     "metadata": {},
     "output_type": "display_data"
    },
    {
     "name": "stdout",
     "output_type": "stream",
     "text": [
      "\n",
      "pos:\n"
     ]
    },
    {
     "data": {
      "image/png": "[encoded data removed]",
      "text/plain": [
       "<PIL.Image.Image image mode=RGB size=200x200>"
      ]
     },
     "metadata": {},
     "output_type": "display_data"
    },
    {
     "name": "stdout",
     "output_type": "stream",
     "text": [
      "\n",
      "isect:\n"
     ]
    },
    {
     "data": {
      "image/png": "[encoded data removed]",
      "text/plain": [
       "<PIL.Image.Image image mode=RGB size=200x200>"
      ]
     },
     "metadata": {},
     "output_type": "display_data"
    },
    {
     "name": "stdout",
     "output_type": "stream",
     "text": [
      "\n",
      "pos:\n"
     ]
    },
    {
     "data": {
      "image/png": "[encoded data removed]",
      "text/plain": [
       "<PIL.Image.Image image mode=RGB size=200x200>"
      ]
     },
     "metadata": {},
     "output_type": "display_data"
    },
    {
     "name": "stdout",
     "output_type": "stream",
     "text": [
      "\n",
      "isect:\n"
     ]
    },
    {
     "data": {
      "image/png": "[encoded data removed]",
      "text/plain": [
       "<PIL.Image.Image image mode=RGB size=200x200>"
      ]
     },
     "metadata": {},
     "output_type": "display_data"
    },
    {
     "name": "stdout",
     "output_type": "stream",
     "text": [
      "\n",
      "pos:\n"
     ]
    },
    {
     "data": {
      "image/png": "[encoded data removed]",
      "text/plain": [
       "<PIL.Image.Image image mode=RGB size=200x200>"
      ]
     },
     "metadata": {},
     "output_type": "display_data"
    },
    {
     "name": "stdout",
     "output_type": "stream",
     "text": [
      "\n",
      "isect:\n"
     ]
    },
    {
     "data": {
      "image/png": "[encoded data removed]",
      "text/plain": [
       "<PIL.Image.Image image mode=RGB size=200x200>"
      ]
     },
     "metadata": {},
     "output_type": "display_data"
    }
   ],
   "source": [
    "find_next_intersection(im, im, 10, (0, 0))"
   ]
  },
  {
   "cell_type": "markdown",
   "id": "a7979376-0b44-438b-86ea-936f660c2305",
   "metadata": {},
   "source": [
    "### Notes\n",
    "\n",
    "Ok, there's a problem with this approach. What's happening is that\n",
    "I'm losing image integrety as I iteratively rotate it.\n",
    "\n",
    "As a digression, it might be interesting to study the patterns that\n",
    "naturally arise by doing this. However, I think a better approach\n",
    "here is to keep track of a single cumulative transformation matrix,\n",
    "and to always use that to generate a current-position hallway\n",
    "image each time we take the intersection with it."
   ]
  },
  {
   "cell_type": "markdown",
   "id": "d445f36a-7e92-4950-ac6d-a25112886186",
   "metadata": {},
   "source": [
    "## Be able to dynamically generate a hallway image from a transformation matrix\n",
    "\n",
    "The hallway will be a polygon between these points, going counterclockwise\n",
    "in the Cartesian plane:\n",
    "\n",
    "    (0, 0) -- (A, 0) -- (A, 1) -- (1, 1) -- (1, A) -- (0, A) -- [close]\n",
    "\n",
    "Here, `A` is some large enough value that I think is mostly unimportant.\n",
    "I'm guessing a value as low as 3 would suffice. (If we find all optimal shapes,\n",
    "then we can say with certainty exactly how large `A` really needs to be.)\n",
    "\n",
    "I'll think of each of those 2d points $p=(x, y)$ as a column vector\n",
    "$\\begin{pmatrix}x \\\\ y \\\\ 1 \\end{pmatrix}$, and then we can use a transformation matrix\n",
    "$T$ by mapping $p$ to $Tp$."
   ]
  },
  {
   "cell_type": "markdown",
   "id": "642cac1a-6821-4ad5-80c5-9ccc57e45b31",
   "metadata": {},
   "source": [
    "A rotation by $\\theta$ radians around the origin is given by\n",
    "\n",
    "$$ T = \\begin{pmatrix} \\cos\\theta & -\\sin\\theta & 0 \\\\\n",
    "\\sin\\theta & \\cos\\theta & 0 \\\\\n",
    "0 & 0 & 1 \\\\\n",
    "\\end{pmatrix}. $$"
   ]
  },
  {
   "cell_type": "markdown",
   "id": "f0c9fcef-67e3-4e21-b6a0-b92126054a2d",
   "metadata": {},
   "source": [
    "A rotation around $(x, y)$ can be achieved by (i) translating\n",
    "$(x, y)$ to the origin; (ii) rotating around the origin, and then (iii)\n",
    "translating the origin back to $(x, y)$."
   ]
  },
  {
   "cell_type": "code",
   "execution_count": 20,
   "id": "c45ce51c-71fd-48f3-8aa1-a9ab20a77518",
   "metadata": {},
   "outputs": [],
   "source": [
    "def to_col(p):\n",
    "    return np.array(list(p) + [1]).reshape(3, 1)"
   ]
  },
  {
   "cell_type": "code",
   "execution_count": 21,
   "id": "9f84d461-dd2e-4da8-b033-6f12882ceb0c",
   "metadata": {},
   "outputs": [
    {
     "data": {
      "text/plain": [
       "array([[10],\n",
       "       [20],\n",
       "       [ 1]])"
      ]
     },
     "execution_count": 21,
     "metadata": {},
     "output_type": "execute_result"
    }
   ],
   "source": [
    "to_col([10, 20])"
   ]
  },
  {
   "cell_type": "code",
   "execution_count": 22,
   "id": "2913bf62-4e2f-4f5e-8e7e-d4d7a95920a3",
   "metadata": {},
   "outputs": [],
   "source": [
    "# Be able to draw a polygon in an image.\n",
    "\n",
    "np_arr = np.zeros((200, 200, 3))\n",
    "im = Image.fromarray(np_arr.astype(np.uint8))\n",
    "draw = ImageDraw.Draw(im)\n",
    "draw.polygon([(10, 10), (20, 100), (100, 40)], fill='white')"
   ]
  },
  {
   "cell_type": "code",
   "execution_count": 23,
   "id": "589bb84c-e530-4140-9acf-e70202bac399",
   "metadata": {},
   "outputs": [
    {
     "data": {
      "image/png": "[encoded data removed]",
      "text/plain": [
       "<PIL.Image.Image image mode=RGB size=200x200>"
      ]
     },
     "execution_count": 23,
     "metadata": {},
     "output_type": "execute_result"
    }
   ],
   "source": [
    "im"
   ]
  },
  {
   "cell_type": "code",
   "execution_count": 24,
   "id": "70a021c3-1f70-49db-89cc-84afa6bf354f",
   "metadata": {},
   "outputs": [],
   "source": [
    "# Define transformation primitives.\n",
    "# I'll start these all with `tr_` for 'transformation'.\n",
    "\n",
    "# Rotation.\n",
    "def tr_rot(theta):\n",
    "    return np.array([\n",
    "        [np.cos(theta), -np.sin(theta), 0],\n",
    "        [np.sin(theta),  np.cos(theta), 0],\n",
    "        [0            , 0             , 1]\n",
    "    ])\n",
    "\n",
    "# Translation.\n",
    "def tr_add(x, y):\n",
    "    return np.array([\n",
    "        [1, 0, x],\n",
    "        [0, 1, y],\n",
    "        [0, 0, 1]\n",
    "    ])\n",
    "\n",
    "# Scale.\n",
    "def tr_scl(s):\n",
    "    return np.array([\n",
    "        [s, 0, 0],\n",
    "        [0, s, 0],\n",
    "        [0, 0, 1]\n",
    "    ])"
   ]
  },
  {
   "cell_type": "code",
   "execution_count": 64,
   "id": "8389b2dc-69cf-41eb-bf2a-f91792476b62",
   "metadata": {},
   "outputs": [],
   "source": [
    "PIXEL_SIZE = 200\n",
    "\n",
    "def make_transformed_hallway(T, far=30):\n",
    "    ''' This returns the image of the hallway once transformation T is applied. '''\n",
    "    \n",
    "    # Use eps to avoid integer alignment so that area estimates are more accurate.\n",
    "    eps = 0.0001\n",
    "    far = far - eps\n",
    "    one = 1   - eps\n",
    "    \n",
    "    pts = list(map(to_col, [\n",
    "        [  0,   0],\n",
    "        [far,   0],\n",
    "        [far, one],\n",
    "        [one, one],\n",
    "        [one, far],\n",
    "        [  0, far]\n",
    "    ]))\n",
    "    \n",
    "    # After applying the mathematical transformation T, we'll also\n",
    "    # convert the points from Cartesian coordinates to pixel coords.\n",
    "    \n",
    "    mid = (PIXEL_SIZE - HALLWAY_WIDTH) // 2\n",
    "    to_pixels = tr_add(mid, mid).dot(tr_scl(HALLWAY_WIDTH))\n",
    "    T = to_pixels.dot(T)\n",
    "    \n",
    "    for i in range(len(pts)):\n",
    "        pts[i] = tuple(T.dot(pts[i]).reshape(3)[:2])\n",
    "        \n",
    "    np_arr = np.zeros((200, 200, 3))\n",
    "    im = Image.fromarray(np_arr.astype(np.uint8))\n",
    "    draw = ImageDraw.Draw(im)\n",
    "    draw.polygon(pts, fill='white')\n",
    "    \n",
    "    return im"
   ]
  },
  {
   "cell_type": "code",
   "execution_count": 65,
   "id": "26584bfc-a030-4932-89e6-a4fddae049f8",
   "metadata": {},
   "outputs": [],
   "source": [
    "def estimate_area(img):\n",
    "    ''' This accepts an Image object and returns the estimated area that has nonzero pixels.\n",
    "        This expects the pixels to be either black or white.\n",
    "    '''\n",
    "    arr = to_array(img)\n",
    "    return np.sum(arr) / 3 / HALLWAY_WIDTH ** 2"
   ]
  },
  {
   "cell_type": "code",
   "execution_count": 66,
   "id": "f53007ed-cf8d-4fcb-9193-67a44926f11c",
   "metadata": {},
   "outputs": [
    {
     "data": {
      "image/png": "[encoded data removed]",
      "text/plain": [
       "<PIL.Image.Image image mode=RGB size=200x200>"
      ]
     },
     "execution_count": 66,
     "metadata": {},
     "output_type": "execute_result"
    }
   ],
   "source": [
    "# Sanity check our area estimation.\n",
    "\n",
    "A = 0.999\n",
    "\n",
    "# Make a single white square in an image.\n",
    "pts = list(map(to_col, [\n",
    "    [0, 0],\n",
    "    [A, 0],\n",
    "    [A, A],\n",
    "    [0, A]\n",
    "]))\n",
    "\n",
    "mid = (PIXEL_SIZE - HALLWAY_WIDTH) // 2\n",
    "T   = tr_add(mid, mid).dot(tr_scl(HALLWAY_WIDTH))\n",
    "\n",
    "for i in range(len(pts)):\n",
    "    pts[i] = tuple(T.dot(pts[i]).reshape(3)[:2])\n",
    "\n",
    "np_arr = np.zeros((200, 200, 3))\n",
    "im = Image.fromarray(np_arr.astype(np.uint8))\n",
    "draw = ImageDraw.Draw(im)\n",
    "draw.polygon(pts, fill='white')\n",
    "\n",
    "im"
   ]
  },
  {
   "cell_type": "code",
   "execution_count": 67,
   "id": "59aacefe-a056-4423-806a-71fe534fcd7b",
   "metadata": {},
   "outputs": [
    {
     "data": {
      "text/plain": [
       "1.0"
      ]
     },
     "execution_count": 67,
     "metadata": {},
     "output_type": "execute_result"
    }
   ],
   "source": [
    "estimate_area(im)"
   ]
  },
  {
   "cell_type": "code",
   "execution_count": 68,
   "id": "5b35ef0a-961c-4fb4-8e11-13b9a6a75134",
   "metadata": {},
   "outputs": [
    {
     "data": {
      "image/png": "[encoded data removed]",
      "text/plain": [
       "<PIL.Image.Image image mode=RGB size=200x200>"
      ]
     },
     "execution_count": 68,
     "metadata": {},
     "output_type": "execute_result"
    }
   ],
   "source": [
    "test_img = make_transformed_hallway(np.eye(3), far=2)\n",
    "test_img"
   ]
  },
  {
   "cell_type": "code",
   "execution_count": 69,
   "id": "c5d166aa-ef8e-42d0-be02-6ee50bed8efc",
   "metadata": {},
   "outputs": [
    {
     "data": {
      "text/plain": [
       "3.0"
      ]
     },
     "execution_count": 69,
     "metadata": {},
     "output_type": "execute_result"
    }
   ],
   "source": [
    "estimate_area(test_img)"
   ]
  },
  {
   "cell_type": "code",
   "execution_count": 71,
   "id": "73258ec2-8c43-46d9-9e56-49a165634bc9",
   "metadata": {},
   "outputs": [
    {
     "data": {
      "image/png": "[encoded data removed]",
      "text/plain": [
       "<PIL.Image.Image image mode=RGB size=200x200>"
      ]
     },
     "execution_count": 71,
     "metadata": {},
     "output_type": "execute_result"
    }
   ],
   "source": [
    "base_img = make_transformed_hallway(np.eye(3))\n",
    "base_img"
   ]
  },
  {
   "cell_type": "code",
   "execution_count": 72,
   "id": "11f129fa-ea13-4296-a300-124ccdc24b43",
   "metadata": {},
   "outputs": [
    {
     "data": {
      "image/png": "[encoded data removed]",
      "text/plain": [
       "<PIL.Image.Image image mode=RGB size=200x200>"
      ]
     },
     "execution_count": 72,
     "metadata": {},
     "output_type": "execute_result"
    }
   ],
   "source": [
    "make_transformed_hallway(tr_rot(1))"
   ]
  },
  {
   "cell_type": "code",
   "execution_count": 73,
   "id": "2781b99d-52c3-4cd6-90d4-9acbfc43aa66",
   "metadata": {},
   "outputs": [],
   "source": [
    "# Test a rotation around (1, 1).\n",
    "\n",
    "# \"Spin\", meaning a rotation around a given point.\n",
    "def tr_spn(theta, x, y):\n",
    "    return tr_add(x, y).dot(tr_rot(theta).dot(tr_add(-x, -y)))"
   ]
  },
  {
   "cell_type": "code",
   "execution_count": 74,
   "id": "49348e71-8260-454b-a731-185e1ed7d065",
   "metadata": {},
   "outputs": [
    {
     "data": {
      "image/png": "[encoded data removed]",
      "text/plain": [
       "<PIL.Image.Image image mode=RGB size=200x200>"
      ]
     },
     "execution_count": 74,
     "metadata": {},
     "output_type": "execute_result"
    }
   ],
   "source": [
    "make_transformed_hallway(tr_spn(1, 3, 3))"
   ]
  },
  {
   "cell_type": "markdown",
   "id": "f7b1b747-baaf-4e1a-ab8b-c85af320224d",
   "metadata": {},
   "source": [
    "## Be able to generate a new intersection from previous state"
   ]
  },
  {
   "cell_type": "code",
   "execution_count": 76,
   "id": "96312af7-ea4a-4d0a-8d6d-60e901958eba",
   "metadata": {},
   "outputs": [],
   "source": [
    "def find_next_intersection(T, isect, angle, center):\n",
    "    ''' This accepts the following parameters:\n",
    "        * T      = The current hallway transformation; a 3x3 matrix as an ndarray.\n",
    "        * isect  = The intersection of all previous steps; an Image object.\n",
    "        * angle  = The angle, in degrees (with apologies), of the rotation.\n",
    "        * center = The center of rotation. (0, 0) is the original outside corner.\n",
    "                   (1, 1) is the original inside corner.\n",
    "    '''\n",
    "    \n",
    "    # XXX This whole function while I write it.\n",
    "    \n",
    "    print()\n",
    "    print('pos:')\n",
    "    pos = make_transformed_hallway(T)\n",
    "    display(pos)\n",
    "    \n",
    "    print()\n",
    "    print('isect:')\n",
    "    display(isect)\n",
    "    \n",
    "    num_steps = 3\n",
    "    \n",
    "    for i in range(num_steps):\n",
    "        U = tr_spn(angle * (i + 1) / num_steps, center[0], center[1]).dot(T)\n",
    "        pos = make_transformed_hallway(U)\n",
    "        print(f'\\npos (step {i + 1} / {num_steps}):'); display(pos)\n",
    "        isect = intersect_images(isect, pos)\n",
    "        print('\\nisect:'); display(isect)"
   ]
  },
  {
   "cell_type": "code",
   "execution_count": 77,
   "id": "866bc242-468f-462b-b879-a0bb25fa0d86",
   "metadata": {},
   "outputs": [
    {
     "name": "stdout",
     "output_type": "stream",
     "text": [
      "\n",
      "pos:\n"
     ]
    },
    {
     "data": {
      "image/png": "[encoded data removed]",
      "text/plain": [
       "<PIL.Image.Image image mode=RGB size=200x200>"
      ]
     },
     "metadata": {},
     "output_type": "display_data"
    },
    {
     "name": "stdout",
     "output_type": "stream",
     "text": [
      "\n",
      "isect:\n"
     ]
    },
    {
     "data": {
      "image/png": "[encoded data removed]",
      "text/plain": [
       "<PIL.Image.Image image mode=RGB size=200x200>"
      ]
     },
     "metadata": {},
     "output_type": "display_data"
    },
    {
     "name": "stdout",
     "output_type": "stream",
     "text": [
      "\n",
      "pos (step 1 / 3):\n"
     ]
    },
    {
     "data": {
      "image/png": "[encoded data removed]",
      "text/plain": [
       "<PIL.Image.Image image mode=RGB size=200x200>"
      ]
     },
     "metadata": {},
     "output_type": "display_data"
    },
    {
     "name": "stdout",
     "output_type": "stream",
     "text": [
      "\n",
      "isect:\n"
     ]
    },
    {
     "data": {
      "image/png": "[encoded data removed]",
      "text/plain": [
       "<PIL.Image.Image image mode=RGB size=200x200>"
      ]
     },
     "metadata": {},
     "output_type": "display_data"
    },
    {
     "name": "stdout",
     "output_type": "stream",
     "text": [
      "\n",
      "pos (step 2 / 3):\n"
     ]
    },
    {
     "data": {
      "image/png": "[encoded data removed]",
      "text/plain": [
       "<PIL.Image.Image image mode=RGB size=200x200>"
      ]
     },
     "metadata": {},
     "output_type": "display_data"
    },
    {
     "name": "stdout",
     "output_type": "stream",
     "text": [
      "\n",
      "isect:\n"
     ]
    },
    {
     "data": {
      "image/png": "[encoded data removed]",
      "text/plain": [
       "<PIL.Image.Image image mode=RGB size=200x200>"
      ]
     },
     "metadata": {},
     "output_type": "display_data"
    },
    {
     "name": "stdout",
     "output_type": "stream",
     "text": [
      "\n",
      "pos (step 3 / 3):\n"
     ]
    },
    {
     "data": {
      "image/png": "[encoded data removed]",
      "text/plain": [
       "<PIL.Image.Image image mode=RGB size=200x200>"
      ]
     },
     "metadata": {},
     "output_type": "display_data"
    },
    {
     "name": "stdout",
     "output_type": "stream",
     "text": [
      "\n",
      "isect:\n"
     ]
    },
    {
     "data": {
      "image/png": "[encoded data removed]",
      "text/plain": [
       "<PIL.Image.Image image mode=RGB size=200x200>"
      ]
     },
     "metadata": {},
     "output_type": "display_data"
    }
   ],
   "source": [
    "find_next_intersection(np.eye(3), base_img, pi / 2, (0.5, 0.5))"
   ]
  },
  {
   "cell_type": "code",
   "execution_count": 253,
   "id": "60cc4642-11e6-4793-bac7-8de568f35fce",
   "metadata": {},
   "outputs": [],
   "source": [
    "def find_next_intersection(T, isect, angle, center):\n",
    "    ''' This accepts the following parameters:\n",
    "        * T      = The current hallway transformation; a 3x3 matrix as an ndarray.\n",
    "        * isect  = The intersection of all previous steps; an Image object.\n",
    "        * angle  = The angle, in degrees (with apologies), of the rotation.\n",
    "        * center = The center of rotation. (0, 0) is the original outside corner.\n",
    "                   (1, 1) is the original inside corner.\n",
    "    '''\n",
    "    \n",
    "    num_steps = 20\n",
    "    \n",
    "    for i in range(num_steps):\n",
    "        U = tr_spn(angle * (i + 1) / num_steps, center[0], center[1]).dot(T)\n",
    "        pos = make_transformed_hallway(U)\n",
    "        isect = intersect_images(isect, pos)\n",
    "    \n",
    "    return U, isect"
   ]
  },
  {
   "cell_type": "code",
   "execution_count": 254,
   "id": "5e53697f-9e5e-4e96-86bd-6a844952b73b",
   "metadata": {},
   "outputs": [
    {
     "data": {
      "image/png": "[encoded data removed]",
      "text/plain": [
       "<PIL.Image.Image image mode=RGB size=200x200>"
      ]
     },
     "execution_count": 254,
     "metadata": {},
     "output_type": "execute_result"
    }
   ],
   "source": [
    "_, isect = find_next_intersection(np.eye(3), base_img, pi / 2, (0.5, 0.5))\n",
    "isect"
   ]
  },
  {
   "cell_type": "code",
   "execution_count": 255,
   "id": "74c9b8ac-ab4d-4c85-a54e-1a654591b430",
   "metadata": {},
   "outputs": [
    {
     "data": {
      "text/plain": [
       "1.125"
      ]
     },
     "execution_count": 255,
     "metadata": {},
     "output_type": "execute_result"
    }
   ],
   "source": [
    "estimate_area(isect)"
   ]
  },
  {
   "cell_type": "code",
   "execution_count": 256,
   "id": "924cb75d-ade1-4934-9b3c-35ad445f0935",
   "metadata": {},
   "outputs": [
    {
     "data": {
      "image/png": "[encoded data removed]",
      "text/plain": [
       "<PIL.Image.Image image mode=RGB size=200x200>"
      ]
     },
     "execution_count": 256,
     "metadata": {},
     "output_type": "execute_result"
    }
   ],
   "source": [
    "_, isect = find_next_intersection(np.eye(3), base_img, pi / 2, (1, 1))\n",
    "isect"
   ]
  },
  {
   "cell_type": "code",
   "execution_count": 257,
   "id": "95d848ca-e862-4e37-badd-353e3bfdf232",
   "metadata": {},
   "outputs": [
    {
     "data": {
      "text/plain": [
       "1.585"
      ]
     },
     "execution_count": 257,
     "metadata": {},
     "output_type": "execute_result"
    }
   ],
   "source": [
    "estimate_area(isect)"
   ]
  },
  {
   "cell_type": "code",
   "execution_count": 258,
   "id": "9ea962ca-a53a-4969-92fe-96e128548f03",
   "metadata": {},
   "outputs": [
    {
     "data": {
      "text/plain": [
       "1.5707963267948966"
      ]
     },
     "execution_count": 258,
     "metadata": {},
     "output_type": "execute_result"
    }
   ],
   "source": [
    "pi / 2"
   ]
  },
  {
   "cell_type": "code",
   "execution_count": 259,
   "id": "e0ca89ee-0291-44e1-9058-3bb3dc802f1d",
   "metadata": {},
   "outputs": [
    {
     "data": {
      "image/png": "[encoded data removed]",
      "text/plain": [
       "<PIL.Image.Image image mode=RGB size=200x200>"
      ]
     },
     "execution_count": 259,
     "metadata": {},
     "output_type": "execute_result"
    }
   ],
   "source": [
    "T, img = find_next_intersection(np.eye(3), base_img, pi / 4, (1, 1))\n",
    "img"
   ]
  },
  {
   "cell_type": "code",
   "execution_count": 260,
   "id": "a5629a7e-2185-4778-a1a3-2103911821a2",
   "metadata": {},
   "outputs": [
    {
     "data": {
      "image/png": "[encoded data removed]",
      "text/plain": [
       "<PIL.Image.Image image mode=RGB size=200x200>"
      ]
     },
     "execution_count": 260,
     "metadata": {},
     "output_type": "execute_result"
    }
   ],
   "source": [
    "_, img = find_next_intersection(T, img, pi / 4, (1, 1))\n",
    "img"
   ]
  },
  {
   "cell_type": "markdown",
   "id": "7ee14ec2-e771-44ec-993e-24a6ab69c9fb",
   "metadata": {},
   "source": [
    "## Write up a quick version of the evolutionary algorithm"
   ]
  },
  {
   "cell_type": "code",
   "execution_count": 261,
   "id": "8ef04d27-1462-4e29-88b1-657059eef051",
   "metadata": {},
   "outputs": [],
   "source": [
    "def pass_(vec):\n",
    "    pass"
   ]
  },
  {
   "cell_type": "code",
   "execution_count": 324,
   "id": "ef31136b-c79a-46a5-99e1-fde7528cd496",
   "metadata": {},
   "outputs": [],
   "source": [
    "def evolve(\n",
    "    population     = [],\n",
    "    score_fn       = pass_,\n",
    "    mutate_fn      = pass_,\n",
    "    cross_fn       = pass_,\n",
    "    max_population = 50,\n",
    "    iters          = 10\n",
    "):\n",
    "    \n",
    "    for i in range(iters):\n",
    "        \n",
    "        #print(f'Starting iteration {i + 1}.')\n",
    "\n",
    "        # Sort the critters by their scores.\n",
    "        # The best ones will be first.\n",
    "        population = sorted(population, key=score_fn, reverse=True)\n",
    "        #print(population)\n",
    "        \n",
    "        best = score_fn(population[0])\n",
    "        print(f'\\rIteration {i + 1}; best score so far is {best}         ', end='', flush=True)\n",
    "\n",
    "        # Prune the population as needed.\n",
    "        population = population[:max_population]\n",
    "        n = len(population)\n",
    "\n",
    "        # Assign a weight to each critter.\n",
    "        # The + 2 here is a bit arbitrary and controls how strongly\n",
    "        # the front of the list is preferred.\n",
    "        weights = 1 / (np.arange(n) + 2)\n",
    "\n",
    "        # Randomly mutate some of them.\n",
    "        k = max(int(n * 0.3), 3)\n",
    "        to_mutate = random.choices(population, weights, k=k)\n",
    "        mutants = [mutate_fn(critter) for critter in to_mutate]\n",
    "\n",
    "        # Randomly cross some pairs.\n",
    "        kids = []\n",
    "        if n > 1:\n",
    "            k = max(int(n * 0.2), 3)\n",
    "            nlist = list(range(n))\n",
    "            for _ in range(k):\n",
    "                pair = (0, 0)\n",
    "                while pair[0] == pair[1]:\n",
    "                    pair = random.choices(nlist, weights, k=2)\n",
    "                kids.append(cross_fn(population[pair[0]], population[pair[1]]))\n",
    "\n",
    "        population += mutants\n",
    "        population += kids\n",
    "    \n",
    "    print()\n",
    "        \n",
    "    population = sorted(population, key=score_fn, reverse=True)\n",
    "    return population"
   ]
  },
  {
   "cell_type": "code",
   "execution_count": 325,
   "id": "dafada9a-0a12-4ebb-b8a6-f6af9602a71f",
   "metadata": {},
   "outputs": [],
   "source": [
    "# Sanity check this function on trying to match a certain function.\n",
    "\n",
    "xx = np.linspace(0, 1, 10)"
   ]
  },
  {
   "cell_type": "code",
   "execution_count": 326,
   "id": "a64561b1-d052-47ec-96a6-5491ad1b2a0f",
   "metadata": {},
   "outputs": [
    {
     "data": {
      "text/plain": [
       "(10,\n",
       " (10,),\n",
       " array([0.        , 0.11111111, 0.22222222, 0.33333333, 0.44444444,\n",
       "        0.55555556, 0.66666667, 0.77777778, 0.88888889, 1.        ]))"
      ]
     },
     "execution_count": 326,
     "metadata": {},
     "output_type": "execute_result"
    }
   ],
   "source": [
    "len(xx), xx.shape, xx"
   ]
  },
  {
   "cell_type": "code",
   "execution_count": 327,
   "id": "844f4f52-2d4b-4c60-b23e-9b7925ddc863",
   "metadata": {},
   "outputs": [
    {
     "data": {
      "text/plain": [
       "array([0.        , 0.0877915 , 0.13443073, 0.14814815, 0.13717421,\n",
       "       0.10973937, 0.07407407, 0.03840878, 0.01097394, 0.        ])"
      ]
     },
     "execution_count": 327,
     "metadata": {},
     "output_type": "execute_result"
    }
   ],
   "source": [
    "xx = xx - 2 * xx ** 2 + 1 * xx ** 3\n",
    "xx"
   ]
  },
  {
   "cell_type": "code",
   "execution_count": 328,
   "id": "9893278c-5fd3-4e3c-a252-7c8f232b5e31",
   "metadata": {},
   "outputs": [
    {
     "data": {
      "image/png": "[encoded data removed]",
      "text/plain": [
       "<Figure size 432x288 with 1 Axes>"
      ]
     },
     "metadata": {
      "needs_background": "light"
     },
     "output_type": "display_data"
    }
   ],
   "source": [
    "plt.plot(xx);"
   ]
  },
  {
   "cell_type": "code",
   "execution_count": 329,
   "id": "dcef141a-3b6d-4a41-8731-6af5187fb85a",
   "metadata": {},
   "outputs": [],
   "source": [
    "pop = [np.zeros((10,))]"
   ]
  },
  {
   "cell_type": "code",
   "execution_count": 330,
   "id": "f1389ca7-69de-4400-985d-9f69065160ae",
   "metadata": {},
   "outputs": [],
   "source": [
    "def score1(v):\n",
    "    return -np.sum((v - xx) ** 2)"
   ]
  },
  {
   "cell_type": "code",
   "execution_count": 331,
   "id": "23c9d6ae-fe7d-4847-a679-b3d68613a871",
   "metadata": {},
   "outputs": [
    {
     "data": {
      "text/plain": [
       "-0.08566896419357932"
      ]
     },
     "execution_count": 331,
     "metadata": {},
     "output_type": "execute_result"
    }
   ],
   "source": [
    "score1(pop[0])"
   ]
  },
  {
   "cell_type": "code",
   "execution_count": 332,
   "id": "8fba137f-4bff-4ac4-8b05-a9a85c66c984",
   "metadata": {},
   "outputs": [
    {
     "data": {
      "text/plain": [
       "array([-0.00226479,  0.00799512,  0.00083677, -0.00501661, -0.00458767,\n",
       "       -0.00244192, -0.01220662, -0.00795831,  0.00094409, -0.02943586])"
      ]
     },
     "execution_count": 332,
     "metadata": {},
     "output_type": "execute_result"
    }
   ],
   "source": [
    "np.random.randn(10) * 0.01"
   ]
  },
  {
   "cell_type": "code",
   "execution_count": 333,
   "id": "47d3b505-cd9c-4ed5-ba0e-b53ffce71a61",
   "metadata": {},
   "outputs": [],
   "source": [
    "def mutate1(v):\n",
    "    return v + np.random.randn(10) * 0.01"
   ]
  },
  {
   "cell_type": "code",
   "execution_count": 334,
   "id": "527ca777-aa53-4164-86ea-097ac1768745",
   "metadata": {},
   "outputs": [],
   "source": [
    "def cross1(v1, v2):\n",
    "    return (v1 + v2) / 2"
   ]
  },
  {
   "cell_type": "code",
   "execution_count": 335,
   "id": "3753dad8-0d8c-44a0-8978-44c1a95d819c",
   "metadata": {
    "tags": []
   },
   "outputs": [
    {
     "name": "stdout",
     "output_type": "stream",
     "text": [
      "Iteration 100; best score so far is -0.00011478307803431062         \n"
     ]
    }
   ],
   "source": [
    "v = evolve(pop, score1, mutate1, cross1, iters=100)[0]"
   ]
  },
  {
   "cell_type": "code",
   "execution_count": 336,
   "id": "40b85065-221b-43ec-86d2-e0ac832fdc99",
   "metadata": {},
   "outputs": [
    {
     "data": {
      "text/plain": [
       "array([0.00357348, 0.08515634, 0.13578638, 0.14517708, 0.13508538,\n",
       "       0.10605337, 0.08175615, 0.03999444, 0.00915681, 0.00127431])"
      ]
     },
     "execution_count": 336,
     "metadata": {},
     "output_type": "execute_result"
    }
   ],
   "source": [
    "v"
   ]
  },
  {
   "cell_type": "code",
   "execution_count": 337,
   "id": "76ca4f1e-7cd4-4622-9d6a-b8b69ea06285",
   "metadata": {},
   "outputs": [
    {
     "data": {
      "text/plain": [
       "array([0.        , 0.0877915 , 0.13443073, 0.14814815, 0.13717421,\n",
       "       0.10973937, 0.07407407, 0.03840878, 0.01097394, 0.        ])"
      ]
     },
     "execution_count": 337,
     "metadata": {},
     "output_type": "execute_result"
    }
   ],
   "source": [
    "xx"
   ]
  },
  {
   "cell_type": "code",
   "execution_count": 338,
   "id": "b97217ac-5cfb-4629-9c82-98c67f7675f6",
   "metadata": {},
   "outputs": [
    {
     "data": {
      "image/png": "[encoded data removed]",
      "text/plain": [
       "<Figure size 432x288 with 1 Axes>"
      ]
     },
     "metadata": {
      "needs_background": "light"
     },
     "output_type": "display_data"
    }
   ],
   "source": [
    "plt.plot(v)\n",
    "plt.plot(xx);"
   ]
  },
  {
   "cell_type": "code",
   "execution_count": 339,
   "id": "8423f0d2-7489-4ebd-9ab7-726467cbe855",
   "metadata": {},
   "outputs": [],
   "source": [
    "# Sweet."
   ]
  },
  {
   "cell_type": "markdown",
   "id": "0f8bcd81-fe79-4cef-b7bf-07edb59e9345",
   "metadata": {},
   "source": [
    "## See if we can apply the evolutionary algorithm to the sofa problem\n",
    "\n",
    "To start with, I'll just have two rotations. A single critter will be\n",
    "`[theta1, x1, y1, ignored, x2, y2]`; where I replace `ignored` by\n",
    "`pi / 2 - theta1` when scoring it."
   ]
  },
  {
   "cell_type": "code",
   "execution_count": 342,
   "id": "c743248b-69e0-4d99-a4d3-43d29e24a6f8",
   "metadata": {},
   "outputs": [],
   "source": [
    "# The initial critter.\n",
    "pop = [\n",
    "    [0.1, 0, 0, 0, 0.5, 0.5]\n",
    "]"
   ]
  },
  {
   "cell_type": "code",
   "execution_count": 343,
   "id": "1d739712-5d63-4869-a85a-488b11386a1c",
   "metadata": {},
   "outputs": [],
   "source": [
    "def get_img_for_path(path):\n",
    "    T, img = find_next_intersection(np.eye(3), base_img, path[0], path[1:3])\n",
    "    angle_sum = path[0]\n",
    "    for i in range(3, len(path), 3):\n",
    "        angle = path[i]\n",
    "        if i == len(path) - 3:\n",
    "            angle = pi / 2 - angle_sum\n",
    "        angle_sum += angle\n",
    "        T, img = find_next_intersection(T, img, angle, path[i+1:i+3])\n",
    "    return img"
   ]
  },
  {
   "cell_type": "code",
   "execution_count": 344,
   "id": "f4cd8ba1-c55f-44f4-8a77-9d5712e7c315",
   "metadata": {},
   "outputs": [],
   "source": [
    "def score2(c):\n",
    "    return estimate_area(get_img_for_path(c))"
   ]
  },
  {
   "cell_type": "code",
   "execution_count": 345,
   "id": "cde905e5-858c-47d2-a2b7-9de9f3397672",
   "metadata": {},
   "outputs": [
    {
     "data": {
      "text/plain": [
       "1.035"
      ]
     },
     "execution_count": 345,
     "metadata": {},
     "output_type": "execute_result"
    }
   ],
   "source": [
    "score2(pop[0])"
   ]
  },
  {
   "cell_type": "code",
   "execution_count": 346,
   "id": "7b57bacb-1619-4b22-977a-0f2fc04688e6",
   "metadata": {},
   "outputs": [
    {
     "data": {
      "text/plain": [
       "array([0.56177127, 2.46875588, 3.27978706])"
      ]
     },
     "execution_count": 346,
     "metadata": {},
     "output_type": "execute_result"
    }
   ],
   "source": [
    "[1, 2, 3] + np.random.randn(3)"
   ]
  },
  {
   "cell_type": "code",
   "execution_count": 347,
   "id": "90d401c7-c654-4242-9f3a-a3b9d21f1a11",
   "metadata": {},
   "outputs": [],
   "source": [
    "def mutate2(c):\n",
    "    c = list(c + np.random.randn(6) * 0.02)\n",
    "    c[0] = min(max(c[0], 0), pi / 2)\n",
    "    return c"
   ]
  },
  {
   "cell_type": "code",
   "execution_count": 348,
   "id": "28a4dd21-7c12-4a6c-8f43-c7f0a816fa83",
   "metadata": {},
   "outputs": [
    {
     "data": {
      "text/plain": [
       "[0.10470093746421774,\n",
       " -0.04874824113264951,\n",
       " -0.019357729641259796,\n",
       " 0.0018176837675407968,\n",
       " 0.495127132180924,\n",
       " 0.47255463148111176]"
      ]
     },
     "execution_count": 348,
     "metadata": {},
     "output_type": "execute_result"
    }
   ],
   "source": [
    "mutate2(pop[0])"
   ]
  },
  {
   "cell_type": "code",
   "execution_count": 349,
   "id": "718ae2e9-cdb7-4483-a3b9-49f65108458b",
   "metadata": {},
   "outputs": [],
   "source": [
    "def cross2(c1, c2):\n",
    "    return list((np.array(c1) + np.array(c2)) / 2)"
   ]
  },
  {
   "cell_type": "code",
   "execution_count": 350,
   "id": "7045164b-f997-4eee-bbd9-63c73fd01d36",
   "metadata": {},
   "outputs": [
    {
     "data": {
      "text/plain": [
       "[0.1, 0.0, 0.0, 0.0, 0.5, 0.5]"
      ]
     },
     "execution_count": 350,
     "metadata": {},
     "output_type": "execute_result"
    }
   ],
   "source": [
    "cross2(pop[0], pop[0])"
   ]
  },
  {
   "cell_type": "code",
   "execution_count": 351,
   "id": "92a2fbef-0058-4d46-bf76-fb30f17b10a9",
   "metadata": {},
   "outputs": [
    {
     "name": "stdout",
     "output_type": "stream",
     "text": [
      "Iteration 10; best score so far is 1.1525         \n"
     ]
    }
   ],
   "source": [
    "pop = evolve(pop, score2, mutate2, cross2, iters=10)"
   ]
  },
  {
   "cell_type": "code",
   "execution_count": 352,
   "id": "684619b8-605c-4886-b4e7-899eb275631e",
   "metadata": {},
   "outputs": [
    {
     "data": {
      "text/plain": [
       "[0.09237219737526936,\n",
       " 0.0709664926581208,\n",
       " 0.03087857741316833,\n",
       " -0.028047965387915333,\n",
       " 0.5265616174194809,\n",
       " 0.6348705144979256]"
      ]
     },
     "execution_count": 352,
     "metadata": {},
     "output_type": "execute_result"
    }
   ],
   "source": [
    "pop[0]"
   ]
  },
  {
   "cell_type": "code",
   "execution_count": 353,
   "id": "bae451e1-73ba-4a2f-8455-f30468962057",
   "metadata": {},
   "outputs": [
    {
     "data": {
      "image/png": "[encoded data removed]",
      "text/plain": [
       "<PIL.Image.Image image mode=RGB size=200x200>"
      ]
     },
     "execution_count": 353,
     "metadata": {},
     "output_type": "execute_result"
    }
   ],
   "source": [
    "get_img_for_path(pop[0])"
   ]
  },
  {
   "cell_type": "code",
   "execution_count": 354,
   "id": "5ec623bd-c7c6-4cf9-a610-51a8ac57d998",
   "metadata": {},
   "outputs": [
    {
     "name": "stdout",
     "output_type": "stream",
     "text": [
      "Iteration 20; best score so far is 1.375          \n"
     ]
    }
   ],
   "source": [
    "pop = evolve(pop, score2, mutate2, cross2, iters=20)"
   ]
  },
  {
   "cell_type": "code",
   "execution_count": 355,
   "id": "c6c2323f-483d-49eb-8de0-18cdf7bab36d",
   "metadata": {},
   "outputs": [
    {
     "data": {
      "image/png": "[encoded data removed]",
      "text/plain": [
       "<PIL.Image.Image image mode=RGB size=200x200>"
      ]
     },
     "execution_count": 355,
     "metadata": {},
     "output_type": "execute_result"
    }
   ],
   "source": [
    "get_img_for_path(pop[0])"
   ]
  },
  {
   "cell_type": "markdown",
   "id": "4e6a2adf-933f-46b2-aaf1-9be7bc51cafc",
   "metadata": {},
   "source": [
    "## Try for a more complicated path"
   ]
  },
  {
   "cell_type": "code",
   "execution_count": 357,
   "id": "ed4402b8-6be4-49fc-aea8-cfcd42ca980f",
   "metadata": {},
   "outputs": [
    {
     "data": {
      "text/plain": [
       "[array([ 0.57478431,  0.42483184, -0.11572813,  0.43681772, -0.63773308,\n",
       "        -0.36831624, -0.67617849, -0.11471574,  0.40370917, -0.56193975,\n",
       "         0.04793081,  0.24112029])]"
      ]
     },
     "execution_count": 357,
     "metadata": {},
     "output_type": "execute_result"
    }
   ],
   "source": [
    "# The initial critter.\n",
    "pop = [\n",
    "    np.random.randn(12) * .3\n",
    "]\n",
    "pop"
   ]
  },
  {
   "cell_type": "code",
   "execution_count": 358,
   "id": "095174df-1bb6-4755-b67a-3a2d6d069b43",
   "metadata": {},
   "outputs": [
    {
     "data": {
      "image/png": "[encoded data removed]",
      "text/plain": [
       "<PIL.Image.Image image mode=RGB size=200x200>"
      ]
     },
     "execution_count": 358,
     "metadata": {},
     "output_type": "execute_result"
    }
   ],
   "source": [
    "get_img_for_path(pop[0])"
   ]
  },
  {
   "cell_type": "code",
   "execution_count": 359,
   "id": "2e268827-d291-4946-a30e-922fb8faae2f",
   "metadata": {},
   "outputs": [],
   "source": [
    "def score3(c):\n",
    "    return estimate_area(get_img_for_path(c))"
   ]
  },
  {
   "cell_type": "code",
   "execution_count": 360,
   "id": "8fd1f74d-7711-4fb8-9de3-6ba3547c76f3",
   "metadata": {},
   "outputs": [],
   "source": [
    "def mutate3(c):\n",
    "    c += np.random.randn(len(c)) * 0.02\n",
    "    return c"
   ]
  },
  {
   "cell_type": "code",
   "execution_count": 361,
   "id": "f9ab9536-01dd-4af8-9252-8ff31d0e98cf",
   "metadata": {},
   "outputs": [],
   "source": [
    "def cross3(c1, c2):\n",
    "    return (c1 + c2) / 2"
   ]
  },
  {
   "cell_type": "code",
   "execution_count": 363,
   "id": "9b83420a-1114-4494-a4a1-97037eff4a03",
   "metadata": {},
   "outputs": [
    {
     "name": "stdout",
     "output_type": "stream",
     "text": [
      "Iteration 5; best score so far is 0.1025         \n"
     ]
    }
   ],
   "source": [
    "pop = evolve(pop, score3, mutate3, cross3, iters=5)"
   ]
  },
  {
   "cell_type": "code",
   "execution_count": 364,
   "id": "0beadde7-20b8-4393-8a0e-34395086b401",
   "metadata": {},
   "outputs": [
    {
     "data": {
      "image/png": "[encoded data removed]",
      "text/plain": [
       "<PIL.Image.Image image mode=RGB size=200x200>"
      ]
     },
     "execution_count": 364,
     "metadata": {},
     "output_type": "execute_result"
    }
   ],
   "source": [
    "get_img_for_path(pop[0])"
   ]
  },
  {
   "cell_type": "code",
   "execution_count": 365,
   "id": "c0dbdb71-e524-4b84-a6a6-791ca785de4d",
   "metadata": {},
   "outputs": [
    {
     "name": "stdout",
     "output_type": "stream",
     "text": [
      "Iteration 20; best score so far is 0.8725         \n"
     ]
    }
   ],
   "source": [
    "pop = evolve(pop, score3, mutate3, cross3, iters=20)"
   ]
  },
  {
   "cell_type": "code",
   "execution_count": null,
   "id": "47d7c549-11d6-46ef-9484-c3097f3c9f28",
   "metadata": {},
   "outputs": [],
   "source": []
  }
 ],
 "metadata": {
  "kernelspec": {
   "display_name": "Python 3 (ipykernel)",
   "language": "python",
   "name": "python3"
  },
  "language_info": {
   "codemirror_mode": {
    "name": "ipython",
    "version": 3
   },
   "file_extension": ".py",
   "mimetype": "text/x-python",
   "name": "python",
   "nbconvert_exporter": "python",
   "pygments_lexer": "ipython3",
   "version": "3.9.15"
  }
 },
 "nbformat": 4,
 "nbformat_minor": 5
}
