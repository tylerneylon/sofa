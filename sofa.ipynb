{
 "cells": [
  {
   "cell_type": "markdown",
   "id": "0dbc06e3-e9a5-4f51-bbf2-2d75c05026fa",
   "metadata": {},
   "source": [
    "# sofa\n",
    "\n",
    "The purpose of this notebook is to try out some initial explorations\n",
    "of the moving sofa problem."
   ]
  },
  {
   "cell_type": "markdown",
   "id": "c8a33687-dc2d-4041-ba60-6e54a18ce8cb",
   "metadata": {},
   "source": [
    "## Imports"
   ]
  },
  {
   "cell_type": "code",
   "execution_count": 9,
   "id": "14b52ee8-6326-4d77-92ce-04f072efbd77",
   "metadata": {},
   "outputs": [],
   "source": [
    "import numpy as np\n",
    "from PIL import Image, ImageDraw"
   ]
  },
  {
   "cell_type": "code",
   "execution_count": 43,
   "id": "5d58d4d7-bc39-4ff1-8395-c99b8ea84709",
   "metadata": {},
   "outputs": [],
   "source": [
    "from IPython.display import display"
   ]
  },
  {
   "cell_type": "markdown",
   "id": "48971312-7bae-48d4-8729-7e7814117821",
   "metadata": {},
   "source": [
    "## Learn how to make and show a simple image"
   ]
  },
  {
   "cell_type": "code",
   "execution_count": 10,
   "id": "41f00523-7220-4c75-855d-526f6072bdc8",
   "metadata": {},
   "outputs": [],
   "source": [
    "np_arr = np.zeros((200, 200, 3))"
   ]
  },
  {
   "cell_type": "code",
   "execution_count": 12,
   "id": "f221f64b-d0e7-4bd2-9f72-9a5a8580cbac",
   "metadata": {},
   "outputs": [],
   "source": [
    "im = Image.fromarray(np_arr.astype(np.uint8))"
   ]
  },
  {
   "cell_type": "code",
   "execution_count": 14,
   "id": "35605503-c52c-4b47-88b8-3989d1626395",
   "metadata": {},
   "outputs": [
    {
     "data": {
      "image/png": "[encoded data removed]",
      "text/plain": [
       "<PIL.Image.Image image mode=RGB size=200x200>"
      ]
     },
     "execution_count": 14,
     "metadata": {},
     "output_type": "execute_result"
    }
   ],
   "source": [
    "im"
   ]
  },
  {
   "cell_type": "code",
   "execution_count": 48,
   "id": "d07c21e2-ede0-44af-bf8e-5fb6872d814b",
   "metadata": {},
   "outputs": [],
   "source": [
    "# Let's make a 20-pixel-wide hallway corner.\n",
    "\n",
    "HALLWAY_WIDTH = 20"
   ]
  },
  {
   "cell_type": "code",
   "execution_count": 50,
   "id": "5d75d00f-7f38-452a-b8e3-2aab9c5d036a",
   "metadata": {},
   "outputs": [
    {
     "data": {
      "image/png": "[encoded data removed]",
      "text/plain": [
       "<PIL.Image.Image image mode=RGB size=200x200>"
      ]
     },
     "execution_count": 50,
     "metadata": {},
     "output_type": "execute_result"
    }
   ],
   "source": [
    "# Let's make a 20-pixel-wide hallway corner.\n",
    "\n",
    "x_lo = 100\n",
    "x_hi = lo + HALLWAY_WIDTH\n",
    "\n",
    "y_lo = 100 - HALLWAY_WIDTH\n",
    "y_hi = 100\n",
    "\n",
    "np_arr = np.zeros((200, 200, 3))\n",
    "np_arr[y_lo:y_hi, x_lo:] = 255\n",
    "np_arr[:y_hi, x_lo:x_hi] = 255\n",
    "im = Image.fromarray(np_arr.astype(np.uint8))\n",
    "im"
   ]
  },
  {
   "cell_type": "markdown",
   "id": "e17b541a-ab7b-4e52-9638-b6fa513a40e9",
   "metadata": {},
   "source": [
    "# Learn how to rotate an image"
   ]
  },
  {
   "cell_type": "code",
   "execution_count": 51,
   "id": "2755588c-d220-4da6-8d9b-e31cc5d8bba8",
   "metadata": {},
   "outputs": [
    {
     "data": {
      "image/png": "[encoded data removed]",
      "text/plain": [
       "<PIL.Image.Image image mode=RGB size=200x200>"
      ]
     },
     "execution_count": 51,
     "metadata": {},
     "output_type": "execute_result"
    }
   ],
   "source": [
    "im.rotate(10)"
   ]
  },
  {
   "cell_type": "markdown",
   "id": "99590b98-a62e-4653-b365-807003a59242",
   "metadata": {},
   "source": [
    "# Learn how to take the intersection of two images"
   ]
  },
  {
   "cell_type": "code",
   "execution_count": 52,
   "id": "eab4f45a-4f91-4a8a-99a0-def6d1c2b604",
   "metadata": {},
   "outputs": [
    {
     "data": {
      "text/plain": [
       "(0.0, 1.0)"
      ]
     },
     "execution_count": 52,
     "metadata": {},
     "output_type": "execute_result"
    }
   ],
   "source": [
    "np_arr = np.asarray(im).astype(np.float32) / 255\n",
    "np.min(np_arr), np.max(np_arr)"
   ]
  },
  {
   "cell_type": "code",
   "execution_count": 53,
   "id": "2bbe85e5-0139-47ac-8e87-8ba069adb5ea",
   "metadata": {},
   "outputs": [],
   "source": [
    "def to_array(im):\n",
    "    return np.asarray(im).astype(np.float32) / 255"
   ]
  },
  {
   "cell_type": "code",
   "execution_count": 54,
   "id": "03c59b77-7668-424b-b89e-ae30b179956d",
   "metadata": {},
   "outputs": [],
   "source": [
    "def to_im(arr):\n",
    "    return Image.fromarray((arr * 255).astype(np.uint8))"
   ]
  },
  {
   "cell_type": "code",
   "execution_count": 55,
   "id": "be888770-5f85-4f70-91ea-f23dcee1bc52",
   "metadata": {},
   "outputs": [],
   "source": [
    "def intersect_images(im1, im2):\n",
    "    arr1 = to_array(im1)\n",
    "    arr2 = to_array(im2)\n",
    "    return to_im(arr1 * arr2)"
   ]
  },
  {
   "cell_type": "code",
   "execution_count": 56,
   "id": "470b5143-09e7-4d98-94c4-15b8e83c50e0",
   "metadata": {},
   "outputs": [
    {
     "data": {
      "image/png": "[encoded data removed]",
      "text/plain": [
       "<PIL.Image.Image image mode=RGB size=200x200>"
      ]
     },
     "execution_count": 56,
     "metadata": {},
     "output_type": "execute_result"
    }
   ],
   "source": [
    "intersect_images(im, im.rotate(10))"
   ]
  },
  {
   "cell_type": "markdown",
   "id": "c612ba10-360d-43e4-879a-9606d44181fc",
   "metadata": {},
   "source": [
    "## Be able to find the intersection of an arbitrary rotate around an arbitrary point"
   ]
  },
  {
   "cell_type": "code",
   "execution_count": 47,
   "id": "f2769920-c21b-43a3-a64e-57d5545be65d",
   "metadata": {},
   "outputs": [
    {
     "data": {
      "text/plain": [
       "(200, 200)"
      ]
     },
     "execution_count": 47,
     "metadata": {},
     "output_type": "execute_result"
    }
   ],
   "source": [
    "im.size"
   ]
  },
  {
   "cell_type": "code",
   "execution_count": null,
   "id": "973f2a61-6463-4980-9a74-deab89400cc7",
   "metadata": {},
   "outputs": [],
   "source": [
    "HALLWAY_WIDTH = "
   ]
  },
  {
   "cell_type": "code",
   "execution_count": 57,
   "id": "43409e8f-b047-4f4a-bd32-5944ff20e6fd",
   "metadata": {},
   "outputs": [],
   "source": [
    "def find_next_intersection(pos, isect, angle, center):\n",
    "    ''' This accepts the following parameters:\n",
    "        * pos    = The hallway in its current position; an Image object.\n",
    "        * isect  = The intersection of all previous steps; an Image object.\n",
    "        * angle  = The angle, in degrees (with apologies), of the rotation.\n",
    "        * center = The center of rotation. (0, 0) is the original outside corner.\n",
    "                   (1, 1) is the original inside corner.\n",
    "    '''\n",
    "    \n",
    "    # Convert the center to image-based coordinates.\n",
    "    w, h = im.size\n",
    "    center = (\n",
    "        w // 2 - center[1] * HALLWAY_WIDTH,\n",
    "        h // 2 + center[0] * HALLWAY_WIDTH\n",
    "    )\n",
    "    \n",
    "    # XXX This whole function while I write it.\n",
    "    \n",
    "    print()\n",
    "    print('pos:')\n",
    "    display(pos)\n",
    "    \n",
    "    print()\n",
    "    print('isect:')\n",
    "    display(isect)\n",
    "    \n",
    "    num_steps = 3\n",
    "    \n",
    "    for i in range(num_steps):\n",
    "        pos = pos.rotate(angle / num_steps, center=center)\n",
    "        print('\\npos:'); display(pos)\n",
    "        isect = intersect_images(isect, pos)\n",
    "        print('\\nisect:'); display(isect)\n",
    "    \n",
    "    "
   ]
  },
  {
   "cell_type": "code",
   "execution_count": 58,
   "id": "eb322798-5084-4802-a58c-a77296783665",
   "metadata": {},
   "outputs": [
    {
     "name": "stdout",
     "output_type": "stream",
     "text": [
      "\n",
      "pos:\n"
     ]
    },
    {
     "data": {
      "image/png": "[encoded data removed]",
      "text/plain": [
       "<PIL.Image.Image image mode=RGB size=200x200>"
      ]
     },
     "metadata": {},
     "output_type": "display_data"
    },
    {
     "name": "stdout",
     "output_type": "stream",
     "text": [
      "\n",
      "isect:\n"
     ]
    },
    {
     "data": {
      "image/png": "[encoded data removed]",
      "text/plain": [
       "<PIL.Image.Image image mode=RGB size=200x200>"
      ]
     },
     "metadata": {},
     "output_type": "display_data"
    },
    {
     "name": "stdout",
     "output_type": "stream",
     "text": [
      "\n",
      "pos:\n"
     ]
    },
    {
     "data": {
      "image/png": "[encoded data removed]",
      "text/plain": [
       "<PIL.Image.Image image mode=RGB size=200x200>"
      ]
     },
     "metadata": {},
     "output_type": "display_data"
    },
    {
     "name": "stdout",
     "output_type": "stream",
     "text": [
      "\n",
      "isect:\n"
     ]
    },
    {
     "data": {
      "image/png": "[encoded data removed]",
      "text/plain": [
       "<PIL.Image.Image image mode=RGB size=200x200>"
      ]
     },
     "metadata": {},
     "output_type": "display_data"
    },
    {
     "name": "stdout",
     "output_type": "stream",
     "text": [
      "\n",
      "pos:\n"
     ]
    },
    {
     "data": {
      "image/png": "[encoded data removed]",
      "text/plain": [
       "<PIL.Image.Image image mode=RGB size=200x200>"
      ]
     },
     "metadata": {},
     "output_type": "display_data"
    },
    {
     "name": "stdout",
     "output_type": "stream",
     "text": [
      "\n",
      "isect:\n"
     ]
    },
    {
     "data": {
      "image/png": "[encoded data removed]",
      "text/plain": [
       "<PIL.Image.Image image mode=RGB size=200x200>"
      ]
     },
     "metadata": {},
     "output_type": "display_data"
    },
    {
     "name": "stdout",
     "output_type": "stream",
     "text": [
      "\n",
      "pos:\n"
     ]
    },
    {
     "data": {
      "image/png": "[encoded data removed]",
      "text/plain": [
       "<PIL.Image.Image image mode=RGB size=200x200>"
      ]
     },
     "metadata": {},
     "output_type": "display_data"
    },
    {
     "name": "stdout",
     "output_type": "stream",
     "text": [
      "\n",
      "isect:\n"
     ]
    },
    {
     "data": {
      "image/png": "[encoded data removed]",
      "text/plain": [
       "<PIL.Image.Image image mode=RGB size=200x200>"
      ]
     },
     "metadata": {},
     "output_type": "display_data"
    }
   ],
   "source": [
    "find_next_intersection(im, im, 10, (0, 0))"
   ]
  },
  {
   "cell_type": "code",
   "execution_count": null,
   "id": "7a9b129a-a246-42aa-92b4-ad1f30092fba",
   "metadata": {},
   "outputs": [],
   "source": []
  }
 ],
 "metadata": {
  "kernelspec": {
   "display_name": "Python 3 (ipykernel)",
   "language": "python",
   "name": "python3"
  },
  "language_info": {
   "codemirror_mode": {
    "name": "ipython",
    "version": 3
   },
   "file_extension": ".py",
   "mimetype": "text/x-python",
   "name": "python",
   "nbconvert_exporter": "python",
   "pygments_lexer": "ipython3",
   "version": "3.9.12"
  }
 },
 "nbformat": 4,
 "nbformat_minor": 5
}
