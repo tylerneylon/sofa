{
 "cells": [
  {
   "cell_type": "markdown",
   "id": "0dbc06e3-e9a5-4f51-bbf2-2d75c05026fa",
   "metadata": {},
   "source": [
    "# sofa\n",
    "\n",
    "The purpose of this notebook is to try out some initial explorations\n",
    "of the moving sofa problem."
   ]
  },
  {
   "cell_type": "markdown",
   "id": "c8a33687-dc2d-4041-ba60-6e54a18ce8cb",
   "metadata": {},
   "source": [
    "## Imports"
   ]
  },
  {
   "cell_type": "code",
   "execution_count": 9,
   "id": "14b52ee8-6326-4d77-92ce-04f072efbd77",
   "metadata": {},
   "outputs": [],
   "source": [
    "import numpy as np\n",
    "from PIL import Image, ImageDraw"
   ]
  },
  {
   "cell_type": "code",
   "execution_count": 43,
   "id": "5d58d4d7-bc39-4ff1-8395-c99b8ea84709",
   "metadata": {},
   "outputs": [],
   "source": [
    "from IPython.display import display"
   ]
  },
  {
   "cell_type": "markdown",
   "id": "48971312-7bae-48d4-8729-7e7814117821",
   "metadata": {},
   "source": [
    "## Learn how to make and show a simple image"
   ]
  },
  {
   "cell_type": "code",
   "execution_count": 10,
   "id": "41f00523-7220-4c75-855d-526f6072bdc8",
   "metadata": {},
   "outputs": [],
   "source": [
    "np_arr = np.zeros((200, 200, 3))"
   ]
  },
  {
   "cell_type": "code",
   "execution_count": 12,
   "id": "f221f64b-d0e7-4bd2-9f72-9a5a8580cbac",
   "metadata": {},
   "outputs": [],
   "source": [
    "im = Image.fromarray(np_arr.astype(np.uint8))"
   ]
  },
  {
   "cell_type": "code",
   "execution_count": 14,
   "id": "35605503-c52c-4b47-88b8-3989d1626395",
   "metadata": {},
   "outputs": [
    {
     "data": {
      "image/png": "[encoded data removed]",
      "text/plain": [
       "<PIL.Image.Image image mode=RGB size=200x200>"
      ]
     },
     "execution_count": 14,
     "metadata": {},
     "output_type": "execute_result"
    }
   ],
   "source": [
    "im"
   ]
  },
  {
   "cell_type": "code",
   "execution_count": 48,
   "id": "d07c21e2-ede0-44af-bf8e-5fb6872d814b",
   "metadata": {},
   "outputs": [],
   "source": [
    "# Let's make a 20-pixel-wide hallway corner.\n",
    "\n",
    "HALLWAY_WIDTH = 20"
   ]
  },
  {
   "cell_type": "code",
   "execution_count": 50,
   "id": "5d75d00f-7f38-452a-b8e3-2aab9c5d036a",
   "metadata": {},
   "outputs": [
    {
     "data": {
      "image/png": "[encoded data removed]",
      "text/plain": [
       "<PIL.Image.Image image mode=RGB size=200x200>"
      ]
     },
     "execution_count": 50,
     "metadata": {},
     "output_type": "execute_result"
    }
   ],
   "source": [
    "# Let's make a 20-pixel-wide hallway corner.\n",
    "\n",
    "x_lo = 100\n",
    "x_hi = lo + HALLWAY_WIDTH\n",
    "\n",
    "y_lo = 100 - HALLWAY_WIDTH\n",
    "y_hi = 100\n",
    "\n",
    "np_arr = np.zeros((200, 200, 3))\n",
    "np_arr[y_lo:y_hi, x_lo:] = 255\n",
    "np_arr[:y_hi, x_lo:x_hi] = 255\n",
    "im = Image.fromarray(np_arr.astype(np.uint8))\n",
    "im"
   ]
  },
  {
   "cell_type": "markdown",
   "id": "e17b541a-ab7b-4e52-9638-b6fa513a40e9",
   "metadata": {},
   "source": [
    "# Learn how to rotate an image"
   ]
  },
  {
   "cell_type": "code",
   "execution_count": 51,
   "id": "2755588c-d220-4da6-8d9b-e31cc5d8bba8",
   "metadata": {},
   "outputs": [
    {
     "data": {
      "image/png": "[encoded data removed]",
      "text/plain": [
       "<PIL.Image.Image image mode=RGB size=200x200>"
      ]
     },
     "execution_count": 51,
     "metadata": {},
     "output_type": "execute_result"
    }
   ],
   "source": [
    "im.rotate(10)"
   ]
  },
  {
   "cell_type": "markdown",
   "id": "99590b98-a62e-4653-b365-807003a59242",
   "metadata": {},
   "source": [
    "# Learn how to take the intersection of two images"
   ]
  },
  {
   "cell_type": "code",
   "execution_count": 52,
   "id": "eab4f45a-4f91-4a8a-99a0-def6d1c2b604",
   "metadata": {},
   "outputs": [
    {
     "data": {
      "text/plain": [
       "(0.0, 1.0)"
      ]
     },
     "execution_count": 52,
     "metadata": {},
     "output_type": "execute_result"
    }
   ],
   "source": [
    "np_arr = np.asarray(im).astype(np.float32) / 255\n",
    "np.min(np_arr), np.max(np_arr)"
   ]
  },
  {
   "cell_type": "code",
   "execution_count": 53,
   "id": "2bbe85e5-0139-47ac-8e87-8ba069adb5ea",
   "metadata": {},
   "outputs": [],
   "source": [
    "def to_array(im):\n",
    "    return np.asarray(im).astype(np.float32) / 255"
   ]
  },
  {
   "cell_type": "code",
   "execution_count": 54,
   "id": "03c59b77-7668-424b-b89e-ae30b179956d",
   "metadata": {},
   "outputs": [],
   "source": [
    "def to_im(arr):\n",
    "    return Image.fromarray((arr * 255).astype(np.uint8))"
   ]
  },
  {
   "cell_type": "code",
   "execution_count": 55,
   "id": "be888770-5f85-4f70-91ea-f23dcee1bc52",
   "metadata": {},
   "outputs": [],
   "source": [
    "def intersect_images(im1, im2):\n",
    "    arr1 = to_array(im1)\n",
    "    arr2 = to_array(im2)\n",
    "    return to_im(arr1 * arr2)"
   ]
  },
  {
   "cell_type": "code",
   "execution_count": 56,
   "id": "470b5143-09e7-4d98-94c4-15b8e83c50e0",
   "metadata": {},
   "outputs": [
    {
     "data": {
      "image/png": "[encoded data removed]",
      "text/plain": [
       "<PIL.Image.Image image mode=RGB size=200x200>"
      ]
     },
     "execution_count": 56,
     "metadata": {},
     "output_type": "execute_result"
    }
   ],
   "source": [
    "intersect_images(im, im.rotate(10))"
   ]
  },
  {
   "cell_type": "markdown",
   "id": "c612ba10-360d-43e4-879a-9606d44181fc",
   "metadata": {},
   "source": [
    "## Be able to find the intersection of an arbitrary rotate around an arbitrary point"
   ]
  },
  {
   "cell_type": "code",
   "execution_count": 47,
   "id": "f2769920-c21b-43a3-a64e-57d5545be65d",
   "metadata": {},
   "outputs": [
    {
     "data": {
      "text/plain": [
       "(200, 200)"
      ]
     },
     "execution_count": 47,
     "metadata": {},
     "output_type": "execute_result"
    }
   ],
   "source": [
    "im.size"
   ]
  },
  {
   "cell_type": "code",
   "execution_count": 57,
   "id": "43409e8f-b047-4f4a-bd32-5944ff20e6fd",
   "metadata": {},
   "outputs": [],
   "source": [
    "def find_next_intersection(pos, isect, angle, center):\n",
    "    ''' This accepts the following parameters:\n",
    "        * pos    = The hallway in its current position; an Image object.\n",
    "        * isect  = The intersection of all previous steps; an Image object.\n",
    "        * angle  = The angle, in degrees (with apologies), of the rotation.\n",
    "        * center = The center of rotation. (0, 0) is the original outside corner.\n",
    "                   (1, 1) is the original inside corner.\n",
    "    '''\n",
    "    \n",
    "    # Convert the center to image-based coordinates.\n",
    "    w, h = im.size\n",
    "    center = (\n",
    "        w // 2 - center[1] * HALLWAY_WIDTH,\n",
    "        h // 2 + center[0] * HALLWAY_WIDTH\n",
    "    )\n",
    "    \n",
    "    # XXX This whole function while I write it.\n",
    "    \n",
    "    print()\n",
    "    print('pos:')\n",
    "    display(pos)\n",
    "    \n",
    "    print()\n",
    "    print('isect:')\n",
    "    display(isect)\n",
    "    \n",
    "    num_steps = 3\n",
    "    \n",
    "    for i in range(num_steps):\n",
    "        pos = pos.rotate(angle / num_steps, center=center)\n",
    "        print('\\npos:'); display(pos)\n",
    "        isect = intersect_images(isect, pos)\n",
    "        print('\\nisect:'); display(isect)\n",
    "    \n",
    "    "
   ]
  },
  {
   "cell_type": "code",
   "execution_count": 58,
   "id": "eb322798-5084-4802-a58c-a77296783665",
   "metadata": {},
   "outputs": [
    {
     "name": "stdout",
     "output_type": "stream",
     "text": [
      "\n",
      "pos:\n"
     ]
    },
    {
     "data": {
      "image/png": "[encoded data removed]",
      "text/plain": [
       "<PIL.Image.Image image mode=RGB size=200x200>"
      ]
     },
     "metadata": {},
     "output_type": "display_data"
    },
    {
     "name": "stdout",
     "output_type": "stream",
     "text": [
      "\n",
      "isect:\n"
     ]
    },
    {
     "data": {
      "image/png": "[encoded data removed]",
      "text/plain": [
       "<PIL.Image.Image image mode=RGB size=200x200>"
      ]
     },
     "metadata": {},
     "output_type": "display_data"
    },
    {
     "name": "stdout",
     "output_type": "stream",
     "text": [
      "\n",
      "pos:\n"
     ]
    },
    {
     "data": {
      "image/png": "[encoded data removed]",
      "text/plain": [
       "<PIL.Image.Image image mode=RGB size=200x200>"
      ]
     },
     "metadata": {},
     "output_type": "display_data"
    },
    {
     "name": "stdout",
     "output_type": "stream",
     "text": [
      "\n",
      "isect:\n"
     ]
    },
    {
     "data": {
      "image/png": "[encoded data removed]",
      "text/plain": [
       "<PIL.Image.Image image mode=RGB size=200x200>"
      ]
     },
     "metadata": {},
     "output_type": "display_data"
    },
    {
     "name": "stdout",
     "output_type": "stream",
     "text": [
      "\n",
      "pos:\n"
     ]
    },
    {
     "data": {
      "image/png": "[encoded data removed]",
      "text/plain": [
       "<PIL.Image.Image image mode=RGB size=200x200>"
      ]
     },
     "metadata": {},
     "output_type": "display_data"
    },
    {
     "name": "stdout",
     "output_type": "stream",
     "text": [
      "\n",
      "isect:\n"
     ]
    },
    {
     "data": {
      "image/png": "[encoded data removed]",
      "text/plain": [
       "<PIL.Image.Image image mode=RGB size=200x200>"
      ]
     },
     "metadata": {},
     "output_type": "display_data"
    },
    {
     "name": "stdout",
     "output_type": "stream",
     "text": [
      "\n",
      "pos:\n"
     ]
    },
    {
     "data": {
      "image/png": "[encoded data removed]",
      "text/plain": [
       "<PIL.Image.Image image mode=RGB size=200x200>"
      ]
     },
     "metadata": {},
     "output_type": "display_data"
    },
    {
     "name": "stdout",
     "output_type": "stream",
     "text": [
      "\n",
      "isect:\n"
     ]
    },
    {
     "data": {
      "image/png": "[encoded data removed]",
      "text/plain": [
       "<PIL.Image.Image image mode=RGB size=200x200>"
      ]
     },
     "metadata": {},
     "output_type": "display_data"
    }
   ],
   "source": [
    "find_next_intersection(im, im, 10, (0, 0))"
   ]
  },
  {
   "cell_type": "markdown",
   "id": "a7979376-0b44-438b-86ea-936f660c2305",
   "metadata": {},
   "source": [
    "### Notes\n",
    "\n",
    "Ok, there's a problem with this approach. What's happening is that\n",
    "I'm losing image integrety as I iteratively rotate it.\n",
    "\n",
    "As a digression, it might be interesting to study the patterns that\n",
    "naturally arise by doing this. However, I think a better approach\n",
    "here is to keep track of a single cumulative transformation matrix,\n",
    "and to always use that to generate a current-position hallway\n",
    "image each time we take the intersection with it."
   ]
  },
  {
   "cell_type": "markdown",
   "id": "d445f36a-7e92-4950-ac6d-a25112886186",
   "metadata": {},
   "source": [
    "## Be able to dynamically generate a hallway image from a transformation matrix\n",
    "\n",
    "The hallway will be a polygon between these points, going counterclockwise\n",
    "in the Cartesian plane:\n",
    "\n",
    "    (0, 0) -- (A, 0) -- (A, 1) -- (1, 1) -- (1, A) -- (0, A) -- [close]\n",
    "\n",
    "Here, `A` is some large enough value that I think is mostly unimportant.\n",
    "I'm guessing a value as low as 3 would suffice. (If we find all optimal shapes,\n",
    "then we can say with certainty exactly how large `A` really needs to be.)\n",
    "\n",
    "I'll think of each of those 2d points $p=(x, y)$ as a column vector\n",
    "$\\begin{pmatrix}x \\\\ y \\\\ 1 \\end{pmatrix}$, and then we can use a transformation matrix\n",
    "$T$ by mapping $p$ to $Tp$."
   ]
  },
  {
   "cell_type": "markdown",
   "id": "642cac1a-6821-4ad5-80c5-9ccc57e45b31",
   "metadata": {},
   "source": [
    "A rotation by $\\theta$ radians around the origin is given by\n",
    "\n",
    "$$ T = \\begin{pmatrix} \\cos\\theta & -\\sin\\theta & 0 \\\\\n",
    "\\sin\\theta & \\cos\\theta & 0 \\\\\n",
    "0 & 0 & 1 \\\\\n",
    "\\end{pmatrix}. $$"
   ]
  },
  {
   "cell_type": "markdown",
   "id": "f0c9fcef-67e3-4e21-b6a0-b92126054a2d",
   "metadata": {},
   "source": [
    "A rotation around $(x, y)$ can be achieved by (i) translating\n",
    "$(x, y)$ to the origin; (ii) rotating around the origin, and then (iii)\n",
    "translating the origin back to $(x, y)$."
   ]
  },
  {
   "cell_type": "code",
   "execution_count": 62,
   "id": "c45ce51c-71fd-48f3-8aa1-a9ab20a77518",
   "metadata": {},
   "outputs": [],
   "source": [
    "def to_col(p):\n",
    "    return np.array(list(p) + [1]).reshape(3, 1)"
   ]
  },
  {
   "cell_type": "code",
   "execution_count": 63,
   "id": "9f84d461-dd2e-4da8-b033-6f12882ceb0c",
   "metadata": {},
   "outputs": [
    {
     "data": {
      "text/plain": [
       "array([[10],\n",
       "       [20],\n",
       "       [ 1]])"
      ]
     },
     "execution_count": 63,
     "metadata": {},
     "output_type": "execute_result"
    }
   ],
   "source": [
    "to_col([10, 20])"
   ]
  },
  {
   "cell_type": "code",
   "execution_count": 68,
   "id": "2913bf62-4e2f-4f5e-8e7e-d4d7a95920a3",
   "metadata": {},
   "outputs": [],
   "source": [
    "# Be able to draw a polygon in an image.\n",
    "\n",
    "np_arr = np.zeros((200, 200, 3))\n",
    "im = Image.fromarray(np_arr.astype(np.uint8))\n",
    "draw = ImageDraw.Draw(im)\n",
    "draw.polygon([(10, 10), (20, 100), (100, 40)], fill='white')"
   ]
  },
  {
   "cell_type": "code",
   "execution_count": 69,
   "id": "589bb84c-e530-4140-9acf-e70202bac399",
   "metadata": {},
   "outputs": [
    {
     "data": {
      "image/png": "[encoded data removed]",
      "text/plain": [
       "<PIL.Image.Image image mode=RGB size=200x200>"
      ]
     },
     "execution_count": 69,
     "metadata": {},
     "output_type": "execute_result"
    }
   ],
   "source": [
    "im"
   ]
  },
  {
   "cell_type": "code",
   "execution_count": 85,
   "id": "70a021c3-1f70-49db-89cc-84afa6bf354f",
   "metadata": {},
   "outputs": [],
   "source": [
    "# Define transformation primitives.\n",
    "# I'll start these all with `tr_` for 'transformation'.\n",
    "\n",
    "# Rotation.\n",
    "def tr_rot(theta):\n",
    "    return np.array([\n",
    "        [np.cos(theta), -np.sin(theta), 0],\n",
    "        [np.sin(theta),  np.cos(theta), 0],\n",
    "        [0            , 0             , 1]\n",
    "    ])\n",
    "\n",
    "# Translation.\n",
    "def tr_add(x, y):\n",
    "    return np.array([\n",
    "        [1, 0, x],\n",
    "        [0, 1, y],\n",
    "        [0, 0, 1]\n",
    "    ])\n",
    "\n",
    "# Scale.\n",
    "def tr_scl(s):\n",
    "    return np.array([\n",
    "        [s, 0, 0],\n",
    "        [0, s, 0],\n",
    "        [0, 0, 1]\n",
    "    ])"
   ]
  },
  {
   "cell_type": "code",
   "execution_count": 134,
   "id": "8389b2dc-69cf-41eb-bf2a-f91792476b62",
   "metadata": {},
   "outputs": [],
   "source": [
    "PIXEL_SIZE = 200\n",
    "\n",
    "def make_transformed_hallway(T):\n",
    "    ''' This returns the image of the hallway once transformation T is applied. '''\n",
    "    \n",
    "    A = 30\n",
    "    \n",
    "    pts = list(map(to_col, [\n",
    "        [0, 0],\n",
    "        [A, 0],\n",
    "        [A, 1],\n",
    "        [1, 1],\n",
    "        [1, A],\n",
    "        [0, A]\n",
    "    ]))\n",
    "    \n",
    "    # After applying the mathematical transformation T, we'll also\n",
    "    # convert the points from Cartesian coordinates to pixel coords.\n",
    "    \n",
    "    mid = (PIXEL_SIZE - HALLWAY_WIDTH) // 2\n",
    "    to_pixels = tr_add(mid, mid).dot(tr_scl(HALLWAY_WIDTH))\n",
    "    T = to_pixels.dot(T)\n",
    "    \n",
    "    for i in range(len(pts)):\n",
    "        pts[i] = tuple(T.dot(pts[i]).reshape(3)[:2])\n",
    "        \n",
    "    np_arr = np.zeros((200, 200, 3))\n",
    "    im = Image.fromarray(np_arr.astype(np.uint8))\n",
    "    draw = ImageDraw.Draw(im)\n",
    "    draw.polygon(pts, fill='white')\n",
    "    \n",
    "    return im"
   ]
  },
  {
   "cell_type": "code",
   "execution_count": 135,
   "id": "73258ec2-8c43-46d9-9e56-49a165634bc9",
   "metadata": {},
   "outputs": [
    {
     "data": {
      "image/png": "[encoded data removed]",
      "text/plain": [
       "<PIL.Image.Image image mode=RGB size=200x200>"
      ]
     },
     "execution_count": 135,
     "metadata": {},
     "output_type": "execute_result"
    }
   ],
   "source": [
    "make_transformed_hallway(np.eye(3))"
   ]
  },
  {
   "cell_type": "code",
   "execution_count": 136,
   "id": "11f129fa-ea13-4296-a300-124ccdc24b43",
   "metadata": {},
   "outputs": [
    {
     "data": {
      "image/png": "[encoded data removed]",
      "text/plain": [
       "<PIL.Image.Image image mode=RGB size=200x200>"
      ]
     },
     "execution_count": 136,
     "metadata": {},
     "output_type": "execute_result"
    }
   ],
   "source": [
    "make_transformed_hallway(tr_rot(1))"
   ]
  },
  {
   "cell_type": "code",
   "execution_count": 137,
   "id": "2781b99d-52c3-4cd6-90d4-9acbfc43aa66",
   "metadata": {},
   "outputs": [],
   "source": [
    "# Test a rotation around (1, 1).\n",
    "\n",
    "# \"Spin\", meaning a rotation around a given point.\n",
    "def tr_spn(theta, x, y):\n",
    "    return tr_add(x, y).dot(tr_rot(theta).dot(tr_add(-x, -y)))"
   ]
  },
  {
   "cell_type": "code",
   "execution_count": 138,
   "id": "49348e71-8260-454b-a731-185e1ed7d065",
   "metadata": {},
   "outputs": [
    {
     "data": {
      "image/png": "[encoded data removed]",
      "text/plain": [
       "<PIL.Image.Image image mode=RGB size=200x200>"
      ]
     },
     "execution_count": 138,
     "metadata": {},
     "output_type": "execute_result"
    }
   ],
   "source": [
    "make_transformed_hallway(tr_spn(1, 3, 3))"
   ]
  }
 ],
 "metadata": {
  "kernelspec": {
   "display_name": "Python 3 (ipykernel)",
   "language": "python",
   "name": "python3"
  },
  "language_info": {
   "codemirror_mode": {
    "name": "ipython",
    "version": 3
   },
   "file_extension": ".py",
   "mimetype": "text/x-python",
   "name": "python",
   "nbconvert_exporter": "python",
   "pygments_lexer": "ipython3",
   "version": "3.9.12"
  }
 },
 "nbformat": 4,
 "nbformat_minor": 5
}
