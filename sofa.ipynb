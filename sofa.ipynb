{
 "cells": [
  {
   "cell_type": "markdown",
   "id": "0dbc06e3-e9a5-4f51-bbf2-2d75c05026fa",
   "metadata": {},
   "source": [
    "# sofa\n",
    "\n",
    "The purpose of this notebook is to try out some initial explorations\n",
    "of the moving sofa problem."
   ]
  },
  {
   "cell_type": "markdown",
   "id": "c8a33687-dc2d-4041-ba60-6e54a18ce8cb",
   "metadata": {},
   "source": [
    "## Imports"
   ]
  },
  {
   "cell_type": "code",
   "execution_count": 396,
   "id": "14b52ee8-6326-4d77-92ce-04f072efbd77",
   "metadata": {},
   "outputs": [],
   "source": [
    "%matplotlib inline\n",
    "\n",
    "import json\n",
    "import math\n",
    "import random\n",
    "\n",
    "import matplotlib.pyplot as plt\n",
    "import numpy as np\n",
    "from PIL import Image, ImageDraw"
   ]
  },
  {
   "cell_type": "code",
   "execution_count": 4,
   "id": "5d58d4d7-bc39-4ff1-8395-c99b8ea84709",
   "metadata": {},
   "outputs": [],
   "source": [
    "from IPython.display import display"
   ]
  },
  {
   "cell_type": "markdown",
   "id": "8a74e2ef-3e21-4cb6-8776-3327e3e26924",
   "metadata": {},
   "source": [
    "## Constants"
   ]
  },
  {
   "cell_type": "code",
   "execution_count": 34,
   "id": "65d0b7df-c3a9-41b1-928c-84783124d7e9",
   "metadata": {},
   "outputs": [],
   "source": [
    "pi = math.pi"
   ]
  },
  {
   "cell_type": "markdown",
   "id": "48971312-7bae-48d4-8729-7e7814117821",
   "metadata": {},
   "source": [
    "## Learn how to make and show a simple image"
   ]
  },
  {
   "cell_type": "code",
   "execution_count": 5,
   "id": "41f00523-7220-4c75-855d-526f6072bdc8",
   "metadata": {},
   "outputs": [],
   "source": [
    "np_arr = np.zeros((200, 200, 3))"
   ]
  },
  {
   "cell_type": "code",
   "execution_count": 6,
   "id": "f221f64b-d0e7-4bd2-9f72-9a5a8580cbac",
   "metadata": {},
   "outputs": [],
   "source": [
    "im = Image.fromarray(np_arr.astype(np.uint8))"
   ]
  },
  {
   "cell_type": "code",
   "execution_count": 7,
   "id": "35605503-c52c-4b47-88b8-3989d1626395",
   "metadata": {},
   "outputs": [
    {
     "data": {
      "image/png": "[encoded data removed]",
      "text/plain": [
       "<PIL.Image.Image image mode=RGB size=200x200>"
      ]
     },
     "execution_count": 7,
     "metadata": {},
     "output_type": "execute_result"
    }
   ],
   "source": [
    "im"
   ]
  },
  {
   "cell_type": "code",
   "execution_count": 8,
   "id": "d07c21e2-ede0-44af-bf8e-5fb6872d814b",
   "metadata": {},
   "outputs": [],
   "source": [
    "# Let's make a 20-pixel-wide hallway corner.\n",
    "\n",
    "HALLWAY_WIDTH = 20"
   ]
  },
  {
   "cell_type": "code",
   "execution_count": 10,
   "id": "5d75d00f-7f38-452a-b8e3-2aab9c5d036a",
   "metadata": {},
   "outputs": [
    {
     "data": {
      "image/png": "[encoded data removed]",
      "text/plain": [
       "<PIL.Image.Image image mode=RGB size=200x200>"
      ]
     },
     "execution_count": 10,
     "metadata": {},
     "output_type": "execute_result"
    }
   ],
   "source": [
    "# Let's make a 20-pixel-wide hallway corner.\n",
    "\n",
    "x_lo = 100\n",
    "x_hi = x_lo + HALLWAY_WIDTH\n",
    "\n",
    "y_lo = 100 - HALLWAY_WIDTH\n",
    "y_hi = 100\n",
    "\n",
    "np_arr = np.zeros((200, 200, 3))\n",
    "np_arr[y_lo:y_hi, x_lo:] = 255\n",
    "np_arr[:y_hi, x_lo:x_hi] = 255\n",
    "im = Image.fromarray(np_arr.astype(np.uint8))\n",
    "im"
   ]
  },
  {
   "cell_type": "markdown",
   "id": "e17b541a-ab7b-4e52-9638-b6fa513a40e9",
   "metadata": {},
   "source": [
    "# Learn how to rotate an image"
   ]
  },
  {
   "cell_type": "code",
   "execution_count": 11,
   "id": "2755588c-d220-4da6-8d9b-e31cc5d8bba8",
   "metadata": {},
   "outputs": [
    {
     "data": {
      "image/png": "[encoded data removed]",
      "text/plain": [
       "<PIL.Image.Image image mode=RGB size=200x200>"
      ]
     },
     "execution_count": 11,
     "metadata": {},
     "output_type": "execute_result"
    }
   ],
   "source": [
    "im.rotate(10)"
   ]
  },
  {
   "cell_type": "markdown",
   "id": "99590b98-a62e-4653-b365-807003a59242",
   "metadata": {},
   "source": [
    "# Learn how to take the intersection of two images"
   ]
  },
  {
   "cell_type": "code",
   "execution_count": 12,
   "id": "eab4f45a-4f91-4a8a-99a0-def6d1c2b604",
   "metadata": {},
   "outputs": [
    {
     "data": {
      "text/plain": [
       "(0.0, 1.0)"
      ]
     },
     "execution_count": 12,
     "metadata": {},
     "output_type": "execute_result"
    }
   ],
   "source": [
    "np_arr = np.asarray(im).astype(np.float32) / 255\n",
    "np.min(np_arr), np.max(np_arr)"
   ]
  },
  {
   "cell_type": "code",
   "execution_count": 13,
   "id": "2bbe85e5-0139-47ac-8e87-8ba069adb5ea",
   "metadata": {},
   "outputs": [],
   "source": [
    "def to_array(im):\n",
    "    return np.asarray(im).astype(np.float32) / 255"
   ]
  },
  {
   "cell_type": "code",
   "execution_count": 14,
   "id": "03c59b77-7668-424b-b89e-ae30b179956d",
   "metadata": {},
   "outputs": [],
   "source": [
    "def to_im(arr):\n",
    "    return Image.fromarray((arr * 255).astype(np.uint8))"
   ]
  },
  {
   "cell_type": "code",
   "execution_count": 15,
   "id": "be888770-5f85-4f70-91ea-f23dcee1bc52",
   "metadata": {},
   "outputs": [],
   "source": [
    "def intersect_images(im1, im2):\n",
    "    arr1 = to_array(im1)\n",
    "    arr2 = to_array(im2)\n",
    "    return to_im(arr1 * arr2)"
   ]
  },
  {
   "cell_type": "code",
   "execution_count": 16,
   "id": "470b5143-09e7-4d98-94c4-15b8e83c50e0",
   "metadata": {},
   "outputs": [
    {
     "data": {
      "image/png": "[encoded data removed]",
      "text/plain": [
       "<PIL.Image.Image image mode=RGB size=200x200>"
      ]
     },
     "execution_count": 16,
     "metadata": {},
     "output_type": "execute_result"
    }
   ],
   "source": [
    "intersect_images(im, im.rotate(10))"
   ]
  },
  {
   "cell_type": "markdown",
   "id": "c612ba10-360d-43e4-879a-9606d44181fc",
   "metadata": {},
   "source": [
    "## Be able to find the intersection of an arbitrary rotate around an arbitrary point"
   ]
  },
  {
   "cell_type": "code",
   "execution_count": 17,
   "id": "f2769920-c21b-43a3-a64e-57d5545be65d",
   "metadata": {},
   "outputs": [
    {
     "data": {
      "text/plain": [
       "(200, 200)"
      ]
     },
     "execution_count": 17,
     "metadata": {},
     "output_type": "execute_result"
    }
   ],
   "source": [
    "im.size"
   ]
  },
  {
   "cell_type": "code",
   "execution_count": 18,
   "id": "43409e8f-b047-4f4a-bd32-5944ff20e6fd",
   "metadata": {},
   "outputs": [],
   "source": [
    "def find_next_intersection(pos, isect, angle, center):\n",
    "    ''' This accepts the following parameters:\n",
    "        * pos    = The hallway in its current position; an Image object.\n",
    "        * isect  = The intersection of all previous steps; an Image object.\n",
    "        * angle  = The angle, in degrees (with apologies), of the rotation.\n",
    "        * center = The center of rotation. (0, 0) is the original outside corner.\n",
    "                   (1, 1) is the original inside corner.\n",
    "    '''\n",
    "    \n",
    "    # Convert the center to image-based coordinates.\n",
    "    w, h = im.size\n",
    "    center = (\n",
    "        w // 2 - center[1] * HALLWAY_WIDTH,\n",
    "        h // 2 + center[0] * HALLWAY_WIDTH\n",
    "    )\n",
    "    \n",
    "    # XXX This whole function while I write it.\n",
    "    \n",
    "    print()\n",
    "    print('pos:')\n",
    "    display(pos)\n",
    "    \n",
    "    print()\n",
    "    print('isect:')\n",
    "    display(isect)\n",
    "    \n",
    "    num_steps = 3\n",
    "    \n",
    "    for i in range(num_steps):\n",
    "        pos = pos.rotate(angle / num_steps, center=center)\n",
    "        print('\\npos:'); display(pos)\n",
    "        isect = intersect_images(isect, pos)\n",
    "        print('\\nisect:'); display(isect)\n",
    "    \n",
    "    "
   ]
  },
  {
   "cell_type": "code",
   "execution_count": 19,
   "id": "eb322798-5084-4802-a58c-a77296783665",
   "metadata": {},
   "outputs": [
    {
     "name": "stdout",
     "output_type": "stream",
     "text": [
      "\n",
      "pos:\n"
     ]
    },
    {
     "data": {
      "image/png": "[encoded data removed]",
      "text/plain": [
       "<PIL.Image.Image image mode=RGB size=200x200>"
      ]
     },
     "metadata": {},
     "output_type": "display_data"
    },
    {
     "name": "stdout",
     "output_type": "stream",
     "text": [
      "\n",
      "isect:\n"
     ]
    },
    {
     "data": {
      "image/png": "[encoded data removed]",
      "text/plain": [
       "<PIL.Image.Image image mode=RGB size=200x200>"
      ]
     },
     "metadata": {},
     "output_type": "display_data"
    },
    {
     "name": "stdout",
     "output_type": "stream",
     "text": [
      "\n",
      "pos:\n"
     ]
    },
    {
     "data": {
      "image/png": "[encoded data removed]",
      "text/plain": [
       "<PIL.Image.Image image mode=RGB size=200x200>"
      ]
     },
     "metadata": {},
     "output_type": "display_data"
    },
    {
     "name": "stdout",
     "output_type": "stream",
     "text": [
      "\n",
      "isect:\n"
     ]
    },
    {
     "data": {
      "image/png": "[encoded data removed]",
      "text/plain": [
       "<PIL.Image.Image image mode=RGB size=200x200>"
      ]
     },
     "metadata": {},
     "output_type": "display_data"
    },
    {
     "name": "stdout",
     "output_type": "stream",
     "text": [
      "\n",
      "pos:\n"
     ]
    },
    {
     "data": {
      "image/png": "[encoded data removed]",
      "text/plain": [
       "<PIL.Image.Image image mode=RGB size=200x200>"
      ]
     },
     "metadata": {},
     "output_type": "display_data"
    },
    {
     "name": "stdout",
     "output_type": "stream",
     "text": [
      "\n",
      "isect:\n"
     ]
    },
    {
     "data": {
      "image/png": "[encoded data removed]",
      "text/plain": [
       "<PIL.Image.Image image mode=RGB size=200x200>"
      ]
     },
     "metadata": {},
     "output_type": "display_data"
    },
    {
     "name": "stdout",
     "output_type": "stream",
     "text": [
      "\n",
      "pos:\n"
     ]
    },
    {
     "data": {
      "image/png": "[encoded data removed]",
      "text/plain": [
       "<PIL.Image.Image image mode=RGB size=200x200>"
      ]
     },
     "metadata": {},
     "output_type": "display_data"
    },
    {
     "name": "stdout",
     "output_type": "stream",
     "text": [
      "\n",
      "isect:\n"
     ]
    },
    {
     "data": {
      "image/png": "[encoded data removed]",
      "text/plain": [
       "<PIL.Image.Image image mode=RGB size=200x200>"
      ]
     },
     "metadata": {},
     "output_type": "display_data"
    }
   ],
   "source": [
    "find_next_intersection(im, im, 10, (0, 0))"
   ]
  },
  {
   "cell_type": "markdown",
   "id": "a7979376-0b44-438b-86ea-936f660c2305",
   "metadata": {},
   "source": [
    "### Notes\n",
    "\n",
    "Ok, there's a problem with this approach. What's happening is that\n",
    "I'm losing image integrety as I iteratively rotate it.\n",
    "\n",
    "As a digression, it might be interesting to study the patterns that\n",
    "naturally arise by doing this. However, I think a better approach\n",
    "here is to keep track of a single cumulative transformation matrix,\n",
    "and to always use that to generate a current-position hallway\n",
    "image each time we take the intersection with it."
   ]
  },
  {
   "cell_type": "markdown",
   "id": "d445f36a-7e92-4950-ac6d-a25112886186",
   "metadata": {},
   "source": [
    "## Be able to dynamically generate a hallway image from a transformation matrix\n",
    "\n",
    "The hallway will be a polygon between these points, going counterclockwise\n",
    "in the Cartesian plane:\n",
    "\n",
    "    (0, 0) -- (A, 0) -- (A, 1) -- (1, 1) -- (1, A) -- (0, A) -- [close]\n",
    "\n",
    "Here, `A` is some large enough value that I think is mostly unimportant.\n",
    "I'm guessing a value as low as 3 would suffice. (If we find all optimal shapes,\n",
    "then we can say with certainty exactly how large `A` really needs to be.)\n",
    "\n",
    "I'll think of each of those 2d points $p=(x, y)$ as a column vector\n",
    "$\\begin{pmatrix}x \\\\ y \\\\ 1 \\end{pmatrix}$, and then we can use a transformation matrix\n",
    "$T$ by mapping $p$ to $Tp$."
   ]
  },
  {
   "cell_type": "markdown",
   "id": "642cac1a-6821-4ad5-80c5-9ccc57e45b31",
   "metadata": {},
   "source": [
    "A rotation by $\\theta$ radians around the origin is given by\n",
    "\n",
    "$$ T = \\begin{pmatrix} \\cos\\theta & -\\sin\\theta & 0 \\\\\n",
    "\\sin\\theta & \\cos\\theta & 0 \\\\\n",
    "0 & 0 & 1 \\\\\n",
    "\\end{pmatrix}. $$"
   ]
  },
  {
   "cell_type": "markdown",
   "id": "f0c9fcef-67e3-4e21-b6a0-b92126054a2d",
   "metadata": {},
   "source": [
    "A rotation around $(x, y)$ can be achieved by (i) translating\n",
    "$(x, y)$ to the origin; (ii) rotating around the origin, and then (iii)\n",
    "translating the origin back to $(x, y)$."
   ]
  },
  {
   "cell_type": "code",
   "execution_count": 20,
   "id": "c45ce51c-71fd-48f3-8aa1-a9ab20a77518",
   "metadata": {},
   "outputs": [],
   "source": [
    "def to_col(p):\n",
    "    return np.array(list(p) + [1]).reshape(3, 1)"
   ]
  },
  {
   "cell_type": "code",
   "execution_count": 21,
   "id": "9f84d461-dd2e-4da8-b033-6f12882ceb0c",
   "metadata": {},
   "outputs": [
    {
     "data": {
      "text/plain": [
       "array([[10],\n",
       "       [20],\n",
       "       [ 1]])"
      ]
     },
     "execution_count": 21,
     "metadata": {},
     "output_type": "execute_result"
    }
   ],
   "source": [
    "to_col([10, 20])"
   ]
  },
  {
   "cell_type": "code",
   "execution_count": 22,
   "id": "2913bf62-4e2f-4f5e-8e7e-d4d7a95920a3",
   "metadata": {},
   "outputs": [],
   "source": [
    "# Be able to draw a polygon in an image.\n",
    "\n",
    "np_arr = np.zeros((200, 200, 3))\n",
    "im = Image.fromarray(np_arr.astype(np.uint8))\n",
    "draw = ImageDraw.Draw(im)\n",
    "draw.polygon([(10, 10), (20, 100), (100, 40)], fill='white')"
   ]
  },
  {
   "cell_type": "code",
   "execution_count": 23,
   "id": "589bb84c-e530-4140-9acf-e70202bac399",
   "metadata": {},
   "outputs": [
    {
     "data": {
      "image/png": "[encoded data removed]",
      "text/plain": [
       "<PIL.Image.Image image mode=RGB size=200x200>"
      ]
     },
     "execution_count": 23,
     "metadata": {},
     "output_type": "execute_result"
    }
   ],
   "source": [
    "im"
   ]
  },
  {
   "cell_type": "code",
   "execution_count": 24,
   "id": "70a021c3-1f70-49db-89cc-84afa6bf354f",
   "metadata": {},
   "outputs": [],
   "source": [
    "# Define transformation primitives.\n",
    "# I'll start these all with `tr_` for 'transformation'.\n",
    "\n",
    "# Rotation.\n",
    "def tr_rot(theta):\n",
    "    return np.array([\n",
    "        [np.cos(theta), -np.sin(theta), 0],\n",
    "        [np.sin(theta),  np.cos(theta), 0],\n",
    "        [0            , 0             , 1]\n",
    "    ])\n",
    "\n",
    "# Translation.\n",
    "def tr_add(x, y):\n",
    "    return np.array([\n",
    "        [1, 0, x],\n",
    "        [0, 1, y],\n",
    "        [0, 0, 1]\n",
    "    ])\n",
    "\n",
    "# Scale.\n",
    "def tr_scl(s):\n",
    "    return np.array([\n",
    "        [s, 0, 0],\n",
    "        [0, s, 0],\n",
    "        [0, 0, 1]\n",
    "    ])"
   ]
  },
  {
   "cell_type": "code",
   "execution_count": 64,
   "id": "8389b2dc-69cf-41eb-bf2a-f91792476b62",
   "metadata": {},
   "outputs": [],
   "source": [
    "PIXEL_SIZE = 200\n",
    "\n",
    "def make_transformed_hallway(T, far=30):\n",
    "    ''' This returns the image of the hallway once transformation T is applied. '''\n",
    "    \n",
    "    # Use eps to avoid integer alignment so that area estimates are more accurate.\n",
    "    eps = 0.0001\n",
    "    far = far - eps\n",
    "    one = 1   - eps\n",
    "    \n",
    "    pts = list(map(to_col, [\n",
    "        [  0,   0],\n",
    "        [far,   0],\n",
    "        [far, one],\n",
    "        [one, one],\n",
    "        [one, far],\n",
    "        [  0, far]\n",
    "    ]))\n",
    "    \n",
    "    # After applying the mathematical transformation T, we'll also\n",
    "    # convert the points from Cartesian coordinates to pixel coords.\n",
    "    \n",
    "    mid = (PIXEL_SIZE - HALLWAY_WIDTH) // 2\n",
    "    to_pixels = tr_add(mid, mid).dot(tr_scl(HALLWAY_WIDTH))\n",
    "    T = to_pixels.dot(T)\n",
    "    \n",
    "    for i in range(len(pts)):\n",
    "        pts[i] = tuple(T.dot(pts[i]).reshape(3)[:2])\n",
    "        \n",
    "    np_arr = np.zeros((200, 200, 3))\n",
    "    im = Image.fromarray(np_arr.astype(np.uint8))\n",
    "    draw = ImageDraw.Draw(im)\n",
    "    draw.polygon(pts, fill='white')\n",
    "    \n",
    "    return im"
   ]
  },
  {
   "cell_type": "code",
   "execution_count": 65,
   "id": "26584bfc-a030-4932-89e6-a4fddae049f8",
   "metadata": {},
   "outputs": [],
   "source": [
    "def estimate_area(img):\n",
    "    ''' This accepts an Image object and returns the estimated area that has nonzero pixels.\n",
    "        This expects the pixels to be either black or white.\n",
    "    '''\n",
    "    arr = to_array(img)\n",
    "    return np.sum(arr) / 3 / HALLWAY_WIDTH ** 2"
   ]
  },
  {
   "cell_type": "code",
   "execution_count": 66,
   "id": "f53007ed-cf8d-4fcb-9193-67a44926f11c",
   "metadata": {},
   "outputs": [
    {
     "data": {
      "image/png": "[encoded data removed]",
      "text/plain": [
       "<PIL.Image.Image image mode=RGB size=200x200>"
      ]
     },
     "execution_count": 66,
     "metadata": {},
     "output_type": "execute_result"
    }
   ],
   "source": [
    "# Sanity check our area estimation.\n",
    "\n",
    "A = 0.999\n",
    "\n",
    "# Make a single white square in an image.\n",
    "pts = list(map(to_col, [\n",
    "    [0, 0],\n",
    "    [A, 0],\n",
    "    [A, A],\n",
    "    [0, A]\n",
    "]))\n",
    "\n",
    "mid = (PIXEL_SIZE - HALLWAY_WIDTH) // 2\n",
    "T   = tr_add(mid, mid).dot(tr_scl(HALLWAY_WIDTH))\n",
    "\n",
    "for i in range(len(pts)):\n",
    "    pts[i] = tuple(T.dot(pts[i]).reshape(3)[:2])\n",
    "\n",
    "np_arr = np.zeros((200, 200, 3))\n",
    "im = Image.fromarray(np_arr.astype(np.uint8))\n",
    "draw = ImageDraw.Draw(im)\n",
    "draw.polygon(pts, fill='white')\n",
    "\n",
    "im"
   ]
  },
  {
   "cell_type": "code",
   "execution_count": 67,
   "id": "59aacefe-a056-4423-806a-71fe534fcd7b",
   "metadata": {},
   "outputs": [
    {
     "data": {
      "text/plain": [
       "1.0"
      ]
     },
     "execution_count": 67,
     "metadata": {},
     "output_type": "execute_result"
    }
   ],
   "source": [
    "estimate_area(im)"
   ]
  },
  {
   "cell_type": "code",
   "execution_count": 68,
   "id": "5b35ef0a-961c-4fb4-8e11-13b9a6a75134",
   "metadata": {},
   "outputs": [
    {
     "data": {
      "image/png": "[encoded data removed]",
      "text/plain": [
       "<PIL.Image.Image image mode=RGB size=200x200>"
      ]
     },
     "execution_count": 68,
     "metadata": {},
     "output_type": "execute_result"
    }
   ],
   "source": [
    "test_img = make_transformed_hallway(np.eye(3), far=2)\n",
    "test_img"
   ]
  },
  {
   "cell_type": "code",
   "execution_count": 69,
   "id": "c5d166aa-ef8e-42d0-be02-6ee50bed8efc",
   "metadata": {},
   "outputs": [
    {
     "data": {
      "text/plain": [
       "3.0"
      ]
     },
     "execution_count": 69,
     "metadata": {},
     "output_type": "execute_result"
    }
   ],
   "source": [
    "estimate_area(test_img)"
   ]
  },
  {
   "cell_type": "code",
   "execution_count": 71,
   "id": "73258ec2-8c43-46d9-9e56-49a165634bc9",
   "metadata": {},
   "outputs": [
    {
     "data": {
      "image/png": "[encoded data removed]",
      "text/plain": [
       "<PIL.Image.Image image mode=RGB size=200x200>"
      ]
     },
     "execution_count": 71,
     "metadata": {},
     "output_type": "execute_result"
    }
   ],
   "source": [
    "base_img = make_transformed_hallway(np.eye(3))\n",
    "base_img"
   ]
  },
  {
   "cell_type": "code",
   "execution_count": 72,
   "id": "11f129fa-ea13-4296-a300-124ccdc24b43",
   "metadata": {},
   "outputs": [
    {
     "data": {
      "image/png": "[encoded data removed]",
      "text/plain": [
       "<PIL.Image.Image image mode=RGB size=200x200>"
      ]
     },
     "execution_count": 72,
     "metadata": {},
     "output_type": "execute_result"
    }
   ],
   "source": [
    "make_transformed_hallway(tr_rot(1))"
   ]
  },
  {
   "cell_type": "code",
   "execution_count": 73,
   "id": "2781b99d-52c3-4cd6-90d4-9acbfc43aa66",
   "metadata": {},
   "outputs": [],
   "source": [
    "# Test a rotation around (1, 1).\n",
    "\n",
    "# \"Spin\", meaning a rotation around a given point.\n",
    "def tr_spn(theta, x, y):\n",
    "    return tr_add(x, y).dot(tr_rot(theta).dot(tr_add(-x, -y)))"
   ]
  },
  {
   "cell_type": "code",
   "execution_count": 74,
   "id": "49348e71-8260-454b-a731-185e1ed7d065",
   "metadata": {},
   "outputs": [
    {
     "data": {
      "image/png": "[encoded data removed]",
      "text/plain": [
       "<PIL.Image.Image image mode=RGB size=200x200>"
      ]
     },
     "execution_count": 74,
     "metadata": {},
     "output_type": "execute_result"
    }
   ],
   "source": [
    "make_transformed_hallway(tr_spn(1, 3, 3))"
   ]
  },
  {
   "cell_type": "markdown",
   "id": "f7b1b747-baaf-4e1a-ab8b-c85af320224d",
   "metadata": {},
   "source": [
    "## Be able to generate a new intersection from previous state"
   ]
  },
  {
   "cell_type": "code",
   "execution_count": 76,
   "id": "96312af7-ea4a-4d0a-8d6d-60e901958eba",
   "metadata": {},
   "outputs": [],
   "source": [
    "def find_next_intersection(T, isect, angle, center):\n",
    "    ''' This accepts the following parameters:\n",
    "        * T      = The current hallway transformation; a 3x3 matrix as an ndarray.\n",
    "        * isect  = The intersection of all previous steps; an Image object.\n",
    "        * angle  = The angle, in degrees (with apologies), of the rotation.\n",
    "        * center = The center of rotation. (0, 0) is the original outside corner.\n",
    "                   (1, 1) is the original inside corner.\n",
    "    '''\n",
    "    \n",
    "    # XXX This whole function while I write it.\n",
    "    \n",
    "    print()\n",
    "    print('pos:')\n",
    "    pos = make_transformed_hallway(T)\n",
    "    display(pos)\n",
    "    \n",
    "    print()\n",
    "    print('isect:')\n",
    "    display(isect)\n",
    "    \n",
    "    num_steps = 3\n",
    "    \n",
    "    for i in range(num_steps):\n",
    "        U = tr_spn(angle * (i + 1) / num_steps, center[0], center[1]).dot(T)\n",
    "        pos = make_transformed_hallway(U)\n",
    "        print(f'\\npos (step {i + 1} / {num_steps}):'); display(pos)\n",
    "        isect = intersect_images(isect, pos)\n",
    "        print('\\nisect:'); display(isect)"
   ]
  },
  {
   "cell_type": "code",
   "execution_count": 77,
   "id": "866bc242-468f-462b-b879-a0bb25fa0d86",
   "metadata": {},
   "outputs": [
    {
     "name": "stdout",
     "output_type": "stream",
     "text": [
      "\n",
      "pos:\n"
     ]
    },
    {
     "data": {
      "image/png": "[encoded data removed]",
      "text/plain": [
       "<PIL.Image.Image image mode=RGB size=200x200>"
      ]
     },
     "metadata": {},
     "output_type": "display_data"
    },
    {
     "name": "stdout",
     "output_type": "stream",
     "text": [
      "\n",
      "isect:\n"
     ]
    },
    {
     "data": {
      "image/png": "[encoded data removed]",
      "text/plain": [
       "<PIL.Image.Image image mode=RGB size=200x200>"
      ]
     },
     "metadata": {},
     "output_type": "display_data"
    },
    {
     "name": "stdout",
     "output_type": "stream",
     "text": [
      "\n",
      "pos (step 1 / 3):\n"
     ]
    },
    {
     "data": {
      "image/png": "[encoded data removed]",
      "text/plain": [
       "<PIL.Image.Image image mode=RGB size=200x200>"
      ]
     },
     "metadata": {},
     "output_type": "display_data"
    },
    {
     "name": "stdout",
     "output_type": "stream",
     "text": [
      "\n",
      "isect:\n"
     ]
    },
    {
     "data": {
      "image/png": "[encoded data removed]",
      "text/plain": [
       "<PIL.Image.Image image mode=RGB size=200x200>"
      ]
     },
     "metadata": {},
     "output_type": "display_data"
    },
    {
     "name": "stdout",
     "output_type": "stream",
     "text": [
      "\n",
      "pos (step 2 / 3):\n"
     ]
    },
    {
     "data": {
      "image/png": "[encoded data removed]",
      "text/plain": [
       "<PIL.Image.Image image mode=RGB size=200x200>"
      ]
     },
     "metadata": {},
     "output_type": "display_data"
    },
    {
     "name": "stdout",
     "output_type": "stream",
     "text": [
      "\n",
      "isect:\n"
     ]
    },
    {
     "data": {
      "image/png": "[encoded data removed]",
      "text/plain": [
       "<PIL.Image.Image image mode=RGB size=200x200>"
      ]
     },
     "metadata": {},
     "output_type": "display_data"
    },
    {
     "name": "stdout",
     "output_type": "stream",
     "text": [
      "\n",
      "pos (step 3 / 3):\n"
     ]
    },
    {
     "data": {
      "image/png": "[encoded data removed]",
      "text/plain": [
       "<PIL.Image.Image image mode=RGB size=200x200>"
      ]
     },
     "metadata": {},
     "output_type": "display_data"
    },
    {
     "name": "stdout",
     "output_type": "stream",
     "text": [
      "\n",
      "isect:\n"
     ]
    },
    {
     "data": {
      "image/png": "[encoded data removed]",
      "text/plain": [
       "<PIL.Image.Image image mode=RGB size=200x200>"
      ]
     },
     "metadata": {},
     "output_type": "display_data"
    }
   ],
   "source": [
    "find_next_intersection(np.eye(3), base_img, pi / 2, (0.5, 0.5))"
   ]
  },
  {
   "cell_type": "code",
   "execution_count": 253,
   "id": "60cc4642-11e6-4793-bac7-8de568f35fce",
   "metadata": {},
   "outputs": [],
   "source": [
    "def find_next_intersection(T, isect, angle, center):\n",
    "    ''' This accepts the following parameters:\n",
    "        * T      = The current hallway transformation; a 3x3 matrix as an ndarray.\n",
    "        * isect  = The intersection of all previous steps; an Image object.\n",
    "        * angle  = The angle, in degrees (with apologies), of the rotation.\n",
    "        * center = The center of rotation. (0, 0) is the original outside corner.\n",
    "                   (1, 1) is the original inside corner.\n",
    "    '''\n",
    "    \n",
    "    num_steps = 20\n",
    "    \n",
    "    for i in range(num_steps):\n",
    "        U = tr_spn(angle * (i + 1) / num_steps, center[0], center[1]).dot(T)\n",
    "        pos = make_transformed_hallway(U)\n",
    "        isect = intersect_images(isect, pos)\n",
    "    \n",
    "    return U, isect"
   ]
  },
  {
   "cell_type": "code",
   "execution_count": 254,
   "id": "5e53697f-9e5e-4e96-86bd-6a844952b73b",
   "metadata": {},
   "outputs": [
    {
     "data": {
      "image/png": "[encoded data removed]",
      "text/plain": [
       "<PIL.Image.Image image mode=RGB size=200x200>"
      ]
     },
     "execution_count": 254,
     "metadata": {},
     "output_type": "execute_result"
    }
   ],
   "source": [
    "_, isect = find_next_intersection(np.eye(3), base_img, pi / 2, (0.5, 0.5))\n",
    "isect"
   ]
  },
  {
   "cell_type": "code",
   "execution_count": 255,
   "id": "74c9b8ac-ab4d-4c85-a54e-1a654591b430",
   "metadata": {},
   "outputs": [
    {
     "data": {
      "text/plain": [
       "1.125"
      ]
     },
     "execution_count": 255,
     "metadata": {},
     "output_type": "execute_result"
    }
   ],
   "source": [
    "estimate_area(isect)"
   ]
  },
  {
   "cell_type": "code",
   "execution_count": 256,
   "id": "924cb75d-ade1-4934-9b3c-35ad445f0935",
   "metadata": {},
   "outputs": [
    {
     "data": {
      "image/png": "[encoded data removed]",
      "text/plain": [
       "<PIL.Image.Image image mode=RGB size=200x200>"
      ]
     },
     "execution_count": 256,
     "metadata": {},
     "output_type": "execute_result"
    }
   ],
   "source": [
    "_, isect = find_next_intersection(np.eye(3), base_img, pi / 2, (1, 1))\n",
    "isect"
   ]
  },
  {
   "cell_type": "code",
   "execution_count": 257,
   "id": "95d848ca-e862-4e37-badd-353e3bfdf232",
   "metadata": {},
   "outputs": [
    {
     "data": {
      "text/plain": [
       "1.585"
      ]
     },
     "execution_count": 257,
     "metadata": {},
     "output_type": "execute_result"
    }
   ],
   "source": [
    "estimate_area(isect)"
   ]
  },
  {
   "cell_type": "code",
   "execution_count": 258,
   "id": "9ea962ca-a53a-4969-92fe-96e128548f03",
   "metadata": {},
   "outputs": [
    {
     "data": {
      "text/plain": [
       "1.5707963267948966"
      ]
     },
     "execution_count": 258,
     "metadata": {},
     "output_type": "execute_result"
    }
   ],
   "source": [
    "pi / 2"
   ]
  },
  {
   "cell_type": "code",
   "execution_count": 259,
   "id": "e0ca89ee-0291-44e1-9058-3bb3dc802f1d",
   "metadata": {},
   "outputs": [
    {
     "data": {
      "image/png": "[encoded data removed]",
      "text/plain": [
       "<PIL.Image.Image image mode=RGB size=200x200>"
      ]
     },
     "execution_count": 259,
     "metadata": {},
     "output_type": "execute_result"
    }
   ],
   "source": [
    "T, img = find_next_intersection(np.eye(3), base_img, pi / 4, (1, 1))\n",
    "img"
   ]
  },
  {
   "cell_type": "code",
   "execution_count": 260,
   "id": "a5629a7e-2185-4778-a1a3-2103911821a2",
   "metadata": {},
   "outputs": [
    {
     "data": {
      "image/png": "[encoded data removed]",
      "text/plain": [
       "<PIL.Image.Image image mode=RGB size=200x200>"
      ]
     },
     "execution_count": 260,
     "metadata": {},
     "output_type": "execute_result"
    }
   ],
   "source": [
    "_, img = find_next_intersection(T, img, pi / 4, (1, 1))\n",
    "img"
   ]
  },
  {
   "cell_type": "markdown",
   "id": "7ee14ec2-e771-44ec-993e-24a6ab69c9fb",
   "metadata": {},
   "source": [
    "## Write up a quick version of the evolutionary algorithm"
   ]
  },
  {
   "cell_type": "code",
   "execution_count": 261,
   "id": "8ef04d27-1462-4e29-88b1-657059eef051",
   "metadata": {},
   "outputs": [],
   "source": [
    "def pass_(vec):\n",
    "    pass"
   ]
  },
  {
   "cell_type": "code",
   "execution_count": 324,
   "id": "ef31136b-c79a-46a5-99e1-fde7528cd496",
   "metadata": {},
   "outputs": [],
   "source": [
    "def evolve(\n",
    "    population     = [],\n",
    "    score_fn       = pass_,\n",
    "    mutate_fn      = pass_,\n",
    "    cross_fn       = pass_,\n",
    "    max_population = 50,\n",
    "    iters          = 10\n",
    "):\n",
    "    \n",
    "    for i in range(iters):\n",
    "        \n",
    "        #print(f'Starting iteration {i + 1}.')\n",
    "\n",
    "        # Sort the critters by their scores.\n",
    "        # The best ones will be first.\n",
    "        population = sorted(population, key=score_fn, reverse=True)\n",
    "        #print(population)\n",
    "        \n",
    "        best = score_fn(population[0])\n",
    "        print(f'\\rIteration {i + 1}; best score so far is {best}         ', end='', flush=True)\n",
    "\n",
    "        # Prune the population as needed.\n",
    "        population = population[:max_population]\n",
    "        n = len(population)\n",
    "\n",
    "        # Assign a weight to each critter.\n",
    "        # The + 2 here is a bit arbitrary and controls how strongly\n",
    "        # the front of the list is preferred.\n",
    "        weights = 1 / (np.arange(n) + 2)\n",
    "\n",
    "        # Randomly mutate some of them.\n",
    "        k = max(int(n * 0.3), 3)\n",
    "        to_mutate = random.choices(population, weights, k=k)\n",
    "        mutants = [mutate_fn(critter) for critter in to_mutate]\n",
    "\n",
    "        # Randomly cross some pairs.\n",
    "        kids = []\n",
    "        if n > 1:\n",
    "            k = max(int(n * 0.2), 3)\n",
    "            nlist = list(range(n))\n",
    "            for _ in range(k):\n",
    "                pair = (0, 0)\n",
    "                while pair[0] == pair[1]:\n",
    "                    pair = random.choices(nlist, weights, k=2)\n",
    "                kids.append(cross_fn(population[pair[0]], population[pair[1]]))\n",
    "\n",
    "        population += mutants\n",
    "        population += kids\n",
    "    \n",
    "    print()\n",
    "        \n",
    "    population = sorted(population, key=score_fn, reverse=True)\n",
    "    return population"
   ]
  },
  {
   "cell_type": "code",
   "execution_count": 325,
   "id": "dafada9a-0a12-4ebb-b8a6-f6af9602a71f",
   "metadata": {},
   "outputs": [],
   "source": [
    "# Sanity check this function on trying to match a certain function.\n",
    "\n",
    "xx = np.linspace(0, 1, 10)"
   ]
  },
  {
   "cell_type": "code",
   "execution_count": 326,
   "id": "a64561b1-d052-47ec-96a6-5491ad1b2a0f",
   "metadata": {},
   "outputs": [
    {
     "data": {
      "text/plain": [
       "(10,\n",
       " (10,),\n",
       " array([0.        , 0.11111111, 0.22222222, 0.33333333, 0.44444444,\n",
       "        0.55555556, 0.66666667, 0.77777778, 0.88888889, 1.        ]))"
      ]
     },
     "execution_count": 326,
     "metadata": {},
     "output_type": "execute_result"
    }
   ],
   "source": [
    "len(xx), xx.shape, xx"
   ]
  },
  {
   "cell_type": "code",
   "execution_count": 327,
   "id": "844f4f52-2d4b-4c60-b23e-9b7925ddc863",
   "metadata": {},
   "outputs": [
    {
     "data": {
      "text/plain": [
       "array([0.        , 0.0877915 , 0.13443073, 0.14814815, 0.13717421,\n",
       "       0.10973937, 0.07407407, 0.03840878, 0.01097394, 0.        ])"
      ]
     },
     "execution_count": 327,
     "metadata": {},
     "output_type": "execute_result"
    }
   ],
   "source": [
    "xx = xx - 2 * xx ** 2 + 1 * xx ** 3\n",
    "xx"
   ]
  },
  {
   "cell_type": "code",
   "execution_count": 328,
   "id": "9893278c-5fd3-4e3c-a252-7c8f232b5e31",
   "metadata": {},
   "outputs": [
    {
     "data": {
      "image/png": "[encoded data removed]",
      "text/plain": [
       "<Figure size 432x288 with 1 Axes>"
      ]
     },
     "metadata": {
      "needs_background": "light"
     },
     "output_type": "display_data"
    }
   ],
   "source": [
    "plt.plot(xx);"
   ]
  },
  {
   "cell_type": "code",
   "execution_count": 329,
   "id": "dcef141a-3b6d-4a41-8731-6af5187fb85a",
   "metadata": {},
   "outputs": [],
   "source": [
    "pop = [np.zeros((10,))]"
   ]
  },
  {
   "cell_type": "code",
   "execution_count": 330,
   "id": "f1389ca7-69de-4400-985d-9f69065160ae",
   "metadata": {},
   "outputs": [],
   "source": [
    "def score1(v):\n",
    "    return -np.sum((v - xx) ** 2)"
   ]
  },
  {
   "cell_type": "code",
   "execution_count": 331,
   "id": "23c9d6ae-fe7d-4847-a679-b3d68613a871",
   "metadata": {},
   "outputs": [
    {
     "data": {
      "text/plain": [
       "-0.08566896419357932"
      ]
     },
     "execution_count": 331,
     "metadata": {},
     "output_type": "execute_result"
    }
   ],
   "source": [
    "score1(pop[0])"
   ]
  },
  {
   "cell_type": "code",
   "execution_count": 332,
   "id": "8fba137f-4bff-4ac4-8b05-a9a85c66c984",
   "metadata": {},
   "outputs": [
    {
     "data": {
      "text/plain": [
       "array([-0.00226479,  0.00799512,  0.00083677, -0.00501661, -0.00458767,\n",
       "       -0.00244192, -0.01220662, -0.00795831,  0.00094409, -0.02943586])"
      ]
     },
     "execution_count": 332,
     "metadata": {},
     "output_type": "execute_result"
    }
   ],
   "source": [
    "np.random.randn(10) * 0.01"
   ]
  },
  {
   "cell_type": "code",
   "execution_count": 333,
   "id": "47d3b505-cd9c-4ed5-ba0e-b53ffce71a61",
   "metadata": {},
   "outputs": [],
   "source": [
    "def mutate1(v):\n",
    "    return v + np.random.randn(10) * 0.01"
   ]
  },
  {
   "cell_type": "code",
   "execution_count": 334,
   "id": "527ca777-aa53-4164-86ea-097ac1768745",
   "metadata": {},
   "outputs": [],
   "source": [
    "def cross1(v1, v2):\n",
    "    return (v1 + v2) / 2"
   ]
  },
  {
   "cell_type": "code",
   "execution_count": 335,
   "id": "3753dad8-0d8c-44a0-8978-44c1a95d819c",
   "metadata": {
    "tags": []
   },
   "outputs": [
    {
     "name": "stdout",
     "output_type": "stream",
     "text": [
      "Iteration 100; best score so far is -0.00011478307803431062         \n"
     ]
    }
   ],
   "source": [
    "v = evolve(pop, score1, mutate1, cross1, iters=100)[0]"
   ]
  },
  {
   "cell_type": "code",
   "execution_count": 336,
   "id": "40b85065-221b-43ec-86d2-e0ac832fdc99",
   "metadata": {},
   "outputs": [
    {
     "data": {
      "text/plain": [
       "array([0.00357348, 0.08515634, 0.13578638, 0.14517708, 0.13508538,\n",
       "       0.10605337, 0.08175615, 0.03999444, 0.00915681, 0.00127431])"
      ]
     },
     "execution_count": 336,
     "metadata": {},
     "output_type": "execute_result"
    }
   ],
   "source": [
    "v"
   ]
  },
  {
   "cell_type": "code",
   "execution_count": 337,
   "id": "76ca4f1e-7cd4-4622-9d6a-b8b69ea06285",
   "metadata": {},
   "outputs": [
    {
     "data": {
      "text/plain": [
       "array([0.        , 0.0877915 , 0.13443073, 0.14814815, 0.13717421,\n",
       "       0.10973937, 0.07407407, 0.03840878, 0.01097394, 0.        ])"
      ]
     },
     "execution_count": 337,
     "metadata": {},
     "output_type": "execute_result"
    }
   ],
   "source": [
    "xx"
   ]
  },
  {
   "cell_type": "code",
   "execution_count": 338,
   "id": "b97217ac-5cfb-4629-9c82-98c67f7675f6",
   "metadata": {},
   "outputs": [
    {
     "data": {
      "image/png": "[encoded data removed]",
      "text/plain": [
       "<Figure size 432x288 with 1 Axes>"
      ]
     },
     "metadata": {
      "needs_background": "light"
     },
     "output_type": "display_data"
    }
   ],
   "source": [
    "plt.plot(v)\n",
    "plt.plot(xx);"
   ]
  },
  {
   "cell_type": "code",
   "execution_count": 339,
   "id": "8423f0d2-7489-4ebd-9ab7-726467cbe855",
   "metadata": {},
   "outputs": [],
   "source": [
    "# Sweet."
   ]
  },
  {
   "cell_type": "markdown",
   "id": "0f8bcd81-fe79-4cef-b7bf-07edb59e9345",
   "metadata": {},
   "source": [
    "## See if we can apply the evolutionary algorithm to the sofa problem\n",
    "\n",
    "To start with, I'll just have two rotations. A single critter will be\n",
    "`[theta1, x1, y1, ignored, x2, y2]`; where I replace `ignored` by\n",
    "`pi / 2 - theta1` when scoring it."
   ]
  },
  {
   "cell_type": "code",
   "execution_count": 342,
   "id": "c743248b-69e0-4d99-a4d3-43d29e24a6f8",
   "metadata": {},
   "outputs": [],
   "source": [
    "# The initial critter.\n",
    "pop = [\n",
    "    [0.1, 0, 0, 0, 0.5, 0.5]\n",
    "]"
   ]
  },
  {
   "cell_type": "code",
   "execution_count": 343,
   "id": "1d739712-5d63-4869-a85a-488b11386a1c",
   "metadata": {},
   "outputs": [],
   "source": [
    "def get_img_for_path(path):\n",
    "    T, img = find_next_intersection(np.eye(3), base_img, path[0], path[1:3])\n",
    "    angle_sum = path[0]\n",
    "    for i in range(3, len(path), 3):\n",
    "        angle = path[i]\n",
    "        if i == len(path) - 3:\n",
    "            angle = pi / 2 - angle_sum\n",
    "        angle_sum += angle\n",
    "        T, img = find_next_intersection(T, img, angle, path[i+1:i+3])\n",
    "    return img"
   ]
  },
  {
   "cell_type": "code",
   "execution_count": 344,
   "id": "f4cd8ba1-c55f-44f4-8a77-9d5712e7c315",
   "metadata": {},
   "outputs": [],
   "source": [
    "def score2(c):\n",
    "    return estimate_area(get_img_for_path(c))"
   ]
  },
  {
   "cell_type": "code",
   "execution_count": 345,
   "id": "cde905e5-858c-47d2-a2b7-9de9f3397672",
   "metadata": {},
   "outputs": [
    {
     "data": {
      "text/plain": [
       "1.035"
      ]
     },
     "execution_count": 345,
     "metadata": {},
     "output_type": "execute_result"
    }
   ],
   "source": [
    "score2(pop[0])"
   ]
  },
  {
   "cell_type": "code",
   "execution_count": 346,
   "id": "7b57bacb-1619-4b22-977a-0f2fc04688e6",
   "metadata": {},
   "outputs": [
    {
     "data": {
      "text/plain": [
       "array([0.56177127, 2.46875588, 3.27978706])"
      ]
     },
     "execution_count": 346,
     "metadata": {},
     "output_type": "execute_result"
    }
   ],
   "source": [
    "[1, 2, 3] + np.random.randn(3)"
   ]
  },
  {
   "cell_type": "code",
   "execution_count": 347,
   "id": "90d401c7-c654-4242-9f3a-a3b9d21f1a11",
   "metadata": {},
   "outputs": [],
   "source": [
    "def mutate2(c):\n",
    "    c = list(c + np.random.randn(6) * 0.02)\n",
    "    c[0] = min(max(c[0], 0), pi / 2)\n",
    "    return c"
   ]
  },
  {
   "cell_type": "code",
   "execution_count": 348,
   "id": "28a4dd21-7c12-4a6c-8f43-c7f0a816fa83",
   "metadata": {},
   "outputs": [
    {
     "data": {
      "text/plain": [
       "[0.10470093746421774,\n",
       " -0.04874824113264951,\n",
       " -0.019357729641259796,\n",
       " 0.0018176837675407968,\n",
       " 0.495127132180924,\n",
       " 0.47255463148111176]"
      ]
     },
     "execution_count": 348,
     "metadata": {},
     "output_type": "execute_result"
    }
   ],
   "source": [
    "mutate2(pop[0])"
   ]
  },
  {
   "cell_type": "code",
   "execution_count": 349,
   "id": "718ae2e9-cdb7-4483-a3b9-49f65108458b",
   "metadata": {},
   "outputs": [],
   "source": [
    "def cross2(c1, c2):\n",
    "    return list((np.array(c1) + np.array(c2)) / 2)"
   ]
  },
  {
   "cell_type": "code",
   "execution_count": 350,
   "id": "7045164b-f997-4eee-bbd9-63c73fd01d36",
   "metadata": {},
   "outputs": [
    {
     "data": {
      "text/plain": [
       "[0.1, 0.0, 0.0, 0.0, 0.5, 0.5]"
      ]
     },
     "execution_count": 350,
     "metadata": {},
     "output_type": "execute_result"
    }
   ],
   "source": [
    "cross2(pop[0], pop[0])"
   ]
  },
  {
   "cell_type": "code",
   "execution_count": 351,
   "id": "92a2fbef-0058-4d46-bf76-fb30f17b10a9",
   "metadata": {},
   "outputs": [
    {
     "name": "stdout",
     "output_type": "stream",
     "text": [
      "Iteration 10; best score so far is 1.1525         \n"
     ]
    }
   ],
   "source": [
    "pop = evolve(pop, score2, mutate2, cross2, iters=10)"
   ]
  },
  {
   "cell_type": "code",
   "execution_count": 352,
   "id": "684619b8-605c-4886-b4e7-899eb275631e",
   "metadata": {},
   "outputs": [
    {
     "data": {
      "text/plain": [
       "[0.09237219737526936,\n",
       " 0.0709664926581208,\n",
       " 0.03087857741316833,\n",
       " -0.028047965387915333,\n",
       " 0.5265616174194809,\n",
       " 0.6348705144979256]"
      ]
     },
     "execution_count": 352,
     "metadata": {},
     "output_type": "execute_result"
    }
   ],
   "source": [
    "pop[0]"
   ]
  },
  {
   "cell_type": "code",
   "execution_count": 353,
   "id": "bae451e1-73ba-4a2f-8455-f30468962057",
   "metadata": {},
   "outputs": [
    {
     "data": {
      "image/png": "[encoded data removed]",
      "text/plain": [
       "<PIL.Image.Image image mode=RGB size=200x200>"
      ]
     },
     "execution_count": 353,
     "metadata": {},
     "output_type": "execute_result"
    }
   ],
   "source": [
    "get_img_for_path(pop[0])"
   ]
  },
  {
   "cell_type": "code",
   "execution_count": 354,
   "id": "5ec623bd-c7c6-4cf9-a610-51a8ac57d998",
   "metadata": {},
   "outputs": [
    {
     "name": "stdout",
     "output_type": "stream",
     "text": [
      "Iteration 20; best score so far is 1.375          \n"
     ]
    }
   ],
   "source": [
    "pop = evolve(pop, score2, mutate2, cross2, iters=20)"
   ]
  },
  {
   "cell_type": "code",
   "execution_count": 355,
   "id": "c6c2323f-483d-49eb-8de0-18cdf7bab36d",
   "metadata": {},
   "outputs": [
    {
     "data": {
      "image/png": "[encoded data removed]",
      "text/plain": [
       "<PIL.Image.Image image mode=RGB size=200x200>"
      ]
     },
     "execution_count": 355,
     "metadata": {},
     "output_type": "execute_result"
    }
   ],
   "source": [
    "get_img_for_path(pop[0])"
   ]
  },
  {
   "cell_type": "markdown",
   "id": "4e6a2adf-933f-46b2-aaf1-9be7bc51cafc",
   "metadata": {},
   "source": [
    "## Try for a more complicated path"
   ]
  },
  {
   "cell_type": "code",
   "execution_count": 357,
   "id": "ed4402b8-6be4-49fc-aea8-cfcd42ca980f",
   "metadata": {},
   "outputs": [
    {
     "data": {
      "text/plain": [
       "[array([ 0.57478431,  0.42483184, -0.11572813,  0.43681772, -0.63773308,\n",
       "        -0.36831624, -0.67617849, -0.11471574,  0.40370917, -0.56193975,\n",
       "         0.04793081,  0.24112029])]"
      ]
     },
     "execution_count": 357,
     "metadata": {},
     "output_type": "execute_result"
    }
   ],
   "source": [
    "# The initial critter.\n",
    "pop = [\n",
    "    np.random.randn(12) * .3\n",
    "]\n",
    "pop"
   ]
  },
  {
   "cell_type": "code",
   "execution_count": 358,
   "id": "095174df-1bb6-4755-b67a-3a2d6d069b43",
   "metadata": {},
   "outputs": [
    {
     "data": {
      "image/png": "[encoded data removed]",
      "text/plain": [
       "<PIL.Image.Image image mode=RGB size=200x200>"
      ]
     },
     "execution_count": 358,
     "metadata": {},
     "output_type": "execute_result"
    }
   ],
   "source": [
    "get_img_for_path(pop[0])"
   ]
  },
  {
   "cell_type": "code",
   "execution_count": 359,
   "id": "2e268827-d291-4946-a30e-922fb8faae2f",
   "metadata": {},
   "outputs": [],
   "source": [
    "def score3(c):\n",
    "    return estimate_area(get_img_for_path(c))"
   ]
  },
  {
   "cell_type": "code",
   "execution_count": 377,
   "id": "8fd1f74d-7711-4fb8-9de3-6ba3547c76f3",
   "metadata": {},
   "outputs": [],
   "source": [
    "def mutate3(c):\n",
    "    c = np.copy(c)\n",
    "    c += np.random.randn(len(c)) * 0.02\n",
    "    return c"
   ]
  },
  {
   "cell_type": "code",
   "execution_count": 361,
   "id": "f9ab9536-01dd-4af8-9252-8ff31d0e98cf",
   "metadata": {},
   "outputs": [],
   "source": [
    "def cross3(c1, c2):\n",
    "    return (c1 + c2) / 2"
   ]
  },
  {
   "cell_type": "code",
   "execution_count": 363,
   "id": "9b83420a-1114-4494-a4a1-97037eff4a03",
   "metadata": {},
   "outputs": [
    {
     "name": "stdout",
     "output_type": "stream",
     "text": [
      "Iteration 5; best score so far is 0.1025         \n"
     ]
    }
   ],
   "source": [
    "pop = evolve(pop, score3, mutate3, cross3, iters=5)"
   ]
  },
  {
   "cell_type": "code",
   "execution_count": 364,
   "id": "0beadde7-20b8-4393-8a0e-34395086b401",
   "metadata": {},
   "outputs": [
    {
     "data": {
      "image/png": "[encoded data removed]",
      "text/plain": [
       "<PIL.Image.Image image mode=RGB size=200x200>"
      ]
     },
     "execution_count": 364,
     "metadata": {},
     "output_type": "execute_result"
    }
   ],
   "source": [
    "get_img_for_path(pop[0])"
   ]
  },
  {
   "cell_type": "code",
   "execution_count": 365,
   "id": "c0dbdb71-e524-4b84-a6a6-791ca785de4d",
   "metadata": {},
   "outputs": [
    {
     "name": "stdout",
     "output_type": "stream",
     "text": [
      "Iteration 20; best score so far is 0.8725         \n"
     ]
    }
   ],
   "source": [
    "pop = evolve(pop, score3, mutate3, cross3, iters=20)"
   ]
  },
  {
   "cell_type": "code",
   "execution_count": 366,
   "id": "47d7c549-11d6-46ef-9484-c3097f3c9f28",
   "metadata": {},
   "outputs": [
    {
     "data": {
      "image/png": "[encoded data removed]",
      "text/plain": [
       "<PIL.Image.Image image mode=RGB size=200x200>"
      ]
     },
     "execution_count": 366,
     "metadata": {},
     "output_type": "execute_result"
    }
   ],
   "source": [
    "get_img_for_path(pop[0])"
   ]
  },
  {
   "cell_type": "code",
   "execution_count": 369,
   "id": "83d480ae-6e03-4968-82d5-1793085fc20e",
   "metadata": {},
   "outputs": [
    {
     "data": {
      "text/plain": [
       "array([ 0.35446325,  0.57711843,  0.15669032,  0.09296224, -0.71008767,\n",
       "       -0.19629068, -0.59900881, -0.02310537,  0.23921786, -0.4427228 ,\n",
       "        0.24883295,  0.53891003])"
      ]
     },
     "execution_count": 369,
     "metadata": {},
     "output_type": "execute_result"
    }
   ],
   "source": [
    "pop[0]"
   ]
  },
  {
   "cell_type": "code",
   "execution_count": 370,
   "id": "b5a3d0ac-ae1e-4bef-a70a-e7178b2753bf",
   "metadata": {},
   "outputs": [],
   "source": [
    "def evolve(\n",
    "    population     = [],\n",
    "    score_fn       = pass_,\n",
    "    mutate_fn      = pass_,\n",
    "    cross_fn       = pass_,\n",
    "    max_population = 50,\n",
    "    iters          = 10\n",
    "):\n",
    "    \n",
    "    best_scores = []\n",
    "    \n",
    "    for i in range(iters):\n",
    "        \n",
    "        #print(f'Starting iteration {i + 1}.')\n",
    "\n",
    "        # Sort the critters by their scores.\n",
    "        # The best ones will be first.\n",
    "        population = sorted(population, key=score_fn, reverse=True)\n",
    "        #print(population)\n",
    "        \n",
    "        best = score_fn(population[0])\n",
    "        best_scores.append(best)\n",
    "        \n",
    "        print(f'\\rIteration {i + 1}; best score so far is {best}         ', end='', flush=True)\n",
    "\n",
    "        # Prune the population as needed.\n",
    "        population = population[:max_population]\n",
    "        n = len(population)\n",
    "\n",
    "        # Assign a weight to each critter.\n",
    "        # The + 2 here is a bit arbitrary and controls how strongly\n",
    "        # the front of the list is preferred.\n",
    "        weights = 1 / (np.arange(n) + 2)\n",
    "\n",
    "        # Randomly mutate some of them.\n",
    "        k = max(int(n * 0.3), 3)\n",
    "        to_mutate = random.choices(population, weights, k=k)\n",
    "        mutants = [mutate_fn(critter) for critter in to_mutate]\n",
    "\n",
    "        # Randomly cross some pairs.\n",
    "        kids = []\n",
    "        if n > 1:\n",
    "            k = max(int(n * 0.2), 3)\n",
    "            nlist = list(range(n))\n",
    "            for _ in range(k):\n",
    "                pair = (0, 0)\n",
    "                while pair[0] == pair[1]:\n",
    "                    pair = random.choices(nlist, weights, k=2)\n",
    "                kids.append(cross_fn(population[pair[0]], population[pair[1]]))\n",
    "\n",
    "        population += mutants\n",
    "        population += kids\n",
    "    \n",
    "    print()\n",
    "        \n",
    "    population = sorted(population, key=score_fn, reverse=True)\n",
    "    return population, best_scores"
   ]
  },
  {
   "cell_type": "code",
   "execution_count": 373,
   "id": "363e8b67-aea5-4458-b940-a244c2151920",
   "metadata": {},
   "outputs": [],
   "source": [
    "score_history = []"
   ]
  },
  {
   "cell_type": "code",
   "execution_count": 375,
   "id": "1aa3eac1-0553-4d12-84a1-db12655a1560",
   "metadata": {},
   "outputs": [
    {
     "name": "stdout",
     "output_type": "stream",
     "text": [
      "Iteration 2; best score so far is 0.95         \n"
     ]
    },
    {
     "data": {
      "image/png": "[encoded data removed]",
      "text/plain": [
       "<Figure size 432x288 with 1 Axes>"
      ]
     },
     "metadata": {
      "needs_background": "light"
     },
     "output_type": "display_data"
    }
   ],
   "source": [
    "pop, scores = evolve(pop, score3, mutate3, cross3, iters=2)\n",
    "score_history += scores\n",
    "plt.plot(score_history);"
   ]
  },
  {
   "cell_type": "code",
   "execution_count": 376,
   "id": "d3205a70-300f-4834-ad31-6f868bafae31",
   "metadata": {},
   "outputs": [
    {
     "name": "stdout",
     "output_type": "stream",
     "text": [
      "Iteration 10; best score so far is 1.055         \n"
     ]
    },
    {
     "data": {
      "image/png": "[encoded data removed]",
      "text/plain": [
       "<Figure size 432x288 with 1 Axes>"
      ]
     },
     "metadata": {
      "needs_background": "light"
     },
     "output_type": "display_data"
    }
   ],
   "source": [
    "pop, scores = evolve(pop, score3, mutate3, cross3, iters=10)\n",
    "score_history += scores\n",
    "plt.plot(score_history);"
   ]
  },
  {
   "cell_type": "code",
   "execution_count": 378,
   "id": "ec57ae0f-5f50-4817-a37d-c7f7eb1bfcff",
   "metadata": {},
   "outputs": [],
   "source": [
    "# Scores going down is a bug. I think mutate3() was accidentally\n",
    "# editing the input. Let's see if it's fixed now."
   ]
  },
  {
   "cell_type": "code",
   "execution_count": 379,
   "id": "7daa3605-5db7-4eb2-a31e-67ab2cdd1fe8",
   "metadata": {},
   "outputs": [
    {
     "name": "stdout",
     "output_type": "stream",
     "text": [
      "Iteration 10; best score so far is 1.1475         \n"
     ]
    },
    {
     "data": {
      "image/png": "[encoded data removed]",
      "text/plain": [
       "<Figure size 432x288 with 1 Axes>"
      ]
     },
     "metadata": {
      "needs_background": "light"
     },
     "output_type": "display_data"
    }
   ],
   "source": [
    "pop, scores = evolve(pop, score3, mutate3, cross3, iters=10)\n",
    "score_history += scores\n",
    "plt.plot(score_history);"
   ]
  },
  {
   "cell_type": "code",
   "execution_count": 380,
   "id": "dc915dd4-3b5f-42ae-80f2-4cc0b49f0d71",
   "metadata": {},
   "outputs": [
    {
     "data": {
      "image/png": "[encoded data removed]",
      "text/plain": [
       "<PIL.Image.Image image mode=RGB size=200x200>"
      ]
     },
     "execution_count": 380,
     "metadata": {},
     "output_type": "execute_result"
    }
   ],
   "source": [
    "get_img_for_path(pop[0])"
   ]
  },
  {
   "cell_type": "code",
   "execution_count": 381,
   "id": "a4f8a13b-8525-4683-92e9-4e26d6f33cd1",
   "metadata": {},
   "outputs": [
    {
     "name": "stdout",
     "output_type": "stream",
     "text": [
      "Iteration 20; best score so far is 1.3825         \n"
     ]
    },
    {
     "data": {
      "image/png": "[encoded data removed]",
      "text/plain": [
       "<Figure size 432x288 with 1 Axes>"
      ]
     },
     "metadata": {
      "needs_background": "light"
     },
     "output_type": "display_data"
    }
   ],
   "source": [
    "pop, scores = evolve(pop, score3, mutate3, cross3, iters=20)\n",
    "score_history += scores\n",
    "plt.plot(score_history);"
   ]
  },
  {
   "cell_type": "code",
   "execution_count": 382,
   "id": "9a63c55b-3d30-41be-92d7-2503dd883c10",
   "metadata": {},
   "outputs": [
    {
     "data": {
      "image/png": "[encoded data removed]",
      "text/plain": [
       "<PIL.Image.Image image mode=RGB size=200x200>"
      ]
     },
     "execution_count": 382,
     "metadata": {},
     "output_type": "execute_result"
    }
   ],
   "source": [
    "get_img_for_path(pop[0])"
   ]
  },
  {
   "cell_type": "code",
   "execution_count": 383,
   "id": "55f75bdc-0ed2-40b8-bbd1-7b85bb7d0f1a",
   "metadata": {},
   "outputs": [
    {
     "data": {
      "text/plain": [
       "44"
      ]
     },
     "execution_count": 383,
     "metadata": {},
     "output_type": "execute_result"
    }
   ],
   "source": [
    "len(score_history)"
   ]
  },
  {
   "cell_type": "code",
   "execution_count": 384,
   "id": "f8ff9700-6a11-40f9-b9f1-f735316f1f5c",
   "metadata": {},
   "outputs": [
    {
     "name": "stdout",
     "output_type": "stream",
     "text": [
      "Iteration 20; best score so far is 1.575          \n"
     ]
    },
    {
     "data": {
      "image/png": "[encoded data removed]",
      "text/plain": [
       "<PIL.Image.Image image mode=RGB size=200x200>"
      ]
     },
     "metadata": {},
     "output_type": "display_data"
    },
    {
     "data": {
      "image/png": "[encoded data removed]",
      "text/plain": [
       "<Figure size 432x288 with 1 Axes>"
      ]
     },
     "metadata": {
      "needs_background": "light"
     },
     "output_type": "display_data"
    }
   ],
   "source": [
    "pop, scores = evolve(pop, score3, mutate3, cross3, iters=20)\n",
    "score_history += scores\n",
    "plt.plot(score_history);\n",
    "display(get_img_for_path(pop[0]))"
   ]
  },
  {
   "cell_type": "code",
   "execution_count": 385,
   "id": "61fe83a7-7624-4290-b0a6-4766818c38a4",
   "metadata": {},
   "outputs": [
    {
     "data": {
      "text/plain": [
       "1.5707963267948966"
      ]
     },
     "execution_count": 385,
     "metadata": {},
     "output_type": "execute_result"
    }
   ],
   "source": [
    "pi / 2"
   ]
  },
  {
   "cell_type": "code",
   "execution_count": 386,
   "id": "d1e1cbfb-e5fe-491a-812b-525c1df9ed4a",
   "metadata": {},
   "outputs": [
    {
     "name": "stdout",
     "output_type": "stream",
     "text": [
      "Iteration 20; best score so far is 1.7025         \n"
     ]
    },
    {
     "data": {
      "image/png": "[encoded data removed]",
      "text/plain": [
       "<PIL.Image.Image image mode=RGB size=200x200>"
      ]
     },
     "metadata": {},
     "output_type": "display_data"
    },
    {
     "data": {
      "image/png": "[encoded data removed]",
      "text/plain": [
       "<Figure size 432x288 with 1 Axes>"
      ]
     },
     "metadata": {
      "needs_background": "light"
     },
     "output_type": "display_data"
    }
   ],
   "source": [
    "pop, scores = evolve(pop, score3, mutate3, cross3, iters=20)\n",
    "score_history += scores\n",
    "plt.plot(score_history);\n",
    "display(get_img_for_path(pop[0]))"
   ]
  },
  {
   "cell_type": "code",
   "execution_count": 387,
   "id": "f11e4adc-f892-49f7-b8f1-21e9b3ac0b5a",
   "metadata": {},
   "outputs": [
    {
     "name": "stdout",
     "output_type": "stream",
     "text": [
      "Iteration 20; best score so far is 1.75          \n"
     ]
    },
    {
     "data": {
      "image/png": "[encoded data removed]",
      "text/plain": [
       "<PIL.Image.Image image mode=RGB size=200x200>"
      ]
     },
     "metadata": {},
     "output_type": "display_data"
    },
    {
     "data": {
      "image/png": "[encoded data removed]",
      "text/plain": [
       "<Figure size 432x288 with 1 Axes>"
      ]
     },
     "metadata": {
      "needs_background": "light"
     },
     "output_type": "display_data"
    }
   ],
   "source": [
    "pop, scores = evolve(pop, score3, mutate3, cross3, iters=20)\n",
    "score_history += scores\n",
    "plt.plot(score_history);\n",
    "display(get_img_for_path(pop[0]))"
   ]
  },
  {
   "cell_type": "code",
   "execution_count": 388,
   "id": "c9479397-4a46-4618-b215-34459780f7b6",
   "metadata": {},
   "outputs": [
    {
     "name": "stdout",
     "output_type": "stream",
     "text": [
      "Iteration 20; best score so far is 1.84           \n"
     ]
    },
    {
     "data": {
      "image/png": "[encoded data removed]",
      "text/plain": [
       "<PIL.Image.Image image mode=RGB size=200x200>"
      ]
     },
     "metadata": {},
     "output_type": "display_data"
    },
    {
     "data": {
      "image/png": "[encoded data removed]",
      "text/plain": [
       "<Figure size 432x288 with 1 Axes>"
      ]
     },
     "metadata": {
      "needs_background": "light"
     },
     "output_type": "display_data"
    }
   ],
   "source": [
    "pop, scores = evolve(pop, score3, mutate3, cross3, iters=20)\n",
    "score_history += scores\n",
    "plt.plot(score_history);\n",
    "display(get_img_for_path(pop[0]))"
   ]
  },
  {
   "cell_type": "code",
   "execution_count": 389,
   "id": "b914089a-f4db-40b7-af6e-1a58852cf3cc",
   "metadata": {},
   "outputs": [
    {
     "name": "stdout",
     "output_type": "stream",
     "text": [
      "Iteration 20; best score so far is 1.9675         \n"
     ]
    },
    {
     "data": {
      "image/png": "[encoded data removed]",
      "text/plain": [
       "<PIL.Image.Image image mode=RGB size=200x200>"
      ]
     },
     "metadata": {},
     "output_type": "display_data"
    },
    {
     "data": {
      "image/png": "[encoded data removed]",
      "text/plain": [
       "<Figure size 432x288 with 1 Axes>"
      ]
     },
     "metadata": {
      "needs_background": "light"
     },
     "output_type": "display_data"
    }
   ],
   "source": [
    "pop, scores = evolve(pop, score3, mutate3, cross3, iters=20)\n",
    "score_history += scores\n",
    "plt.plot(score_history);\n",
    "display(get_img_for_path(pop[0]))"
   ]
  },
  {
   "cell_type": "code",
   "execution_count": 390,
   "id": "187215b7-26f5-45f4-845b-c5295f59ad09",
   "metadata": {},
   "outputs": [
    {
     "name": "stdout",
     "output_type": "stream",
     "text": [
      "Iteration 20; best score so far is 2.005          \n"
     ]
    },
    {
     "data": {
      "image/png": "[encoded data removed]",
      "text/plain": [
       "<PIL.Image.Image image mode=RGB size=200x200>"
      ]
     },
     "metadata": {},
     "output_type": "display_data"
    },
    {
     "data": {
      "image/png": "[encoded data removed]",
      "text/plain": [
       "<Figure size 432x288 with 1 Axes>"
      ]
     },
     "metadata": {
      "needs_background": "light"
     },
     "output_type": "display_data"
    }
   ],
   "source": [
    "pop, scores = evolve(pop, score3, mutate3, cross3, iters=20)\n",
    "score_history += scores\n",
    "plt.plot(score_history);\n",
    "display(get_img_for_path(pop[0]))"
   ]
  },
  {
   "cell_type": "code",
   "execution_count": 391,
   "id": "03a4d642-ed5e-43b0-8d40-11b9d5a25ab8",
   "metadata": {},
   "outputs": [],
   "source": [
    "def find_next_intersection(T, isect, angle, center, num_steps=20):\n",
    "    ''' This accepts the following parameters:\n",
    "        * T      = The current hallway transformation; a 3x3 matrix as an ndarray.\n",
    "        * isect  = The intersection of all previous steps; an Image object.\n",
    "        * angle  = The angle, in degrees (with apologies), of the rotation.\n",
    "        * center = The center of rotation. (0, 0) is the original outside corner.\n",
    "                   (1, 1) is the original inside corner.\n",
    "    '''\n",
    "    for i in range(num_steps):\n",
    "        U = tr_spn(angle * (i + 1) / num_steps, center[0], center[1]).dot(T)\n",
    "        pos = make_transformed_hallway(U)\n",
    "        isect = intersect_images(isect, pos)\n",
    "    \n",
    "    return U, isect"
   ]
  },
  {
   "cell_type": "code",
   "execution_count": 392,
   "id": "362770de-3425-4306-870a-3f4b33e99571",
   "metadata": {},
   "outputs": [],
   "source": [
    "def get_img_for_path(path, num_steps_per_turn=20):\n",
    "    T, img = find_next_intersection(np.eye(3), base_img, path[0], path[1:3], num_steps_per_turn)\n",
    "    angle_sum = path[0]\n",
    "    for i in range(3, len(path), 3):\n",
    "        angle = path[i]\n",
    "        if i == len(path) - 3:\n",
    "            angle = pi / 2 - angle_sum\n",
    "        angle_sum += angle\n",
    "        T, img = find_next_intersection(T, img, angle, path[i+1:i+3], num_steps_per_turn)\n",
    "    return img"
   ]
  },
  {
   "cell_type": "code",
   "execution_count": 394,
   "id": "77ce37f0-c610-4886-9a7d-34fc00ad5077",
   "metadata": {},
   "outputs": [
    {
     "data": {
      "image/png": "[encoded data removed]",
      "text/plain": [
       "<PIL.Image.Image image mode=RGB size=200x200>"
      ]
     },
     "metadata": {},
     "output_type": "display_data"
    },
    {
     "data": {
      "text/plain": [
       "1.95"
      ]
     },
     "execution_count": 394,
     "metadata": {},
     "output_type": "execute_result"
    }
   ],
   "source": [
    "# Check if the ev. alg is gaming the system by taking advantage of our turn resolution.\n",
    "img = get_img_for_path(pop[0], 100)\n",
    "display(img)\n",
    "estimate_area(img)"
   ]
  },
  {
   "cell_type": "code",
   "execution_count": 395,
   "id": "362db7d0-8e7b-4ad5-99a4-a614a1846c45",
   "metadata": {},
   "outputs": [],
   "source": [
    "# I would say that is a tiny bit, yes.\n",
    "# That's a little < 3% false area inflation."
   ]
  },
  {
   "cell_type": "code",
   "execution_count": 397,
   "id": "3858d6ef-5ce0-48f8-94a2-14ce59df5d0b",
   "metadata": {},
   "outputs": [],
   "source": [
    "# Save out the best path so far.\n",
    "\n",
    "with open('three_turn_path.json', 'w') as f:\n",
    "    json.dump(list(pop[0]), f)"
   ]
  },
  {
   "cell_type": "code",
   "execution_count": 407,
   "id": "2d79abbc-fff0-4718-a271-f08301a8ff34",
   "metadata": {},
   "outputs": [],
   "source": [
    "three_spin_score_history = score_history"
   ]
  },
  {
   "cell_type": "markdown",
   "id": "bf8a32e9-b96d-4812-9f41-32604441102f",
   "metadata": {},
   "source": [
    "## See what we can do with more spins in the vector."
   ]
  },
  {
   "cell_type": "code",
   "execution_count": 405,
   "id": "13e68f7a-9c00-49ca-86b3-e5b688755971",
   "metadata": {},
   "outputs": [],
   "source": [
    "# The initial critter.\n",
    "pop = [np.random.randn(24) * .01]"
   ]
  },
  {
   "cell_type": "code",
   "execution_count": 406,
   "id": "cdc4d6fc-d261-45c2-97ff-361117e2f3f1",
   "metadata": {},
   "outputs": [
    {
     "data": {
      "image/png": "[encoded data removed]",
      "text/plain": [
       "<PIL.Image.Image image mode=RGB size=200x200>"
      ]
     },
     "execution_count": 406,
     "metadata": {},
     "output_type": "execute_result"
    }
   ],
   "source": [
    "get_img_for_path(pop[0])"
   ]
  },
  {
   "cell_type": "code",
   "execution_count": 408,
   "id": "1259cc0b-dcdb-47f8-aae6-ecd44fc64621",
   "metadata": {},
   "outputs": [],
   "source": [
    "score_history = []"
   ]
  },
  {
   "cell_type": "code",
   "execution_count": 409,
   "id": "7ca1c74b-bb08-4adf-bf12-80737911f556",
   "metadata": {},
   "outputs": [
    {
     "name": "stdout",
     "output_type": "stream",
     "text": [
      "Iteration 2; best score so far is 0.0         \n"
     ]
    },
    {
     "data": {
      "image/png": "[encoded data removed]",
      "text/plain": [
       "<PIL.Image.Image image mode=RGB size=200x200>"
      ]
     },
     "metadata": {},
     "output_type": "display_data"
    },
    {
     "data": {
      "image/png": "[encoded data removed]",
      "text/plain": [
       "<Figure size 432x288 with 1 Axes>"
      ]
     },
     "metadata": {
      "needs_background": "light"
     },
     "output_type": "display_data"
    }
   ],
   "source": [
    "pop, scores = evolve(pop, score3, mutate3, cross3, iters=2)\n",
    "score_history += scores\n",
    "plt.plot(score_history);\n",
    "display(get_img_for_path(pop[0]))"
   ]
  },
  {
   "cell_type": "code",
   "execution_count": 410,
   "id": "83b9343d-5c01-456e-85b8-7bc8798b4a3f",
   "metadata": {},
   "outputs": [
    {
     "name": "stdout",
     "output_type": "stream",
     "text": [
      "Iteration 10; best score so far is 0.21          \n"
     ]
    },
    {
     "data": {
      "image/png": "[encoded data removed]",
      "text/plain": [
       "<PIL.Image.Image image mode=RGB size=200x200>"
      ]
     },
     "metadata": {},
     "output_type": "display_data"
    },
    {
     "data": {
      "image/png": "[encoded data removed]",
      "text/plain": [
       "<Figure size 432x288 with 1 Axes>"
      ]
     },
     "metadata": {
      "needs_background": "light"
     },
     "output_type": "display_data"
    }
   ],
   "source": [
    "pop, scores = evolve(pop, score3, mutate3, cross3, iters=10)\n",
    "score_history += scores\n",
    "plt.plot(score_history);\n",
    "display(get_img_for_path(pop[0]))"
   ]
  },
  {
   "cell_type": "code",
   "execution_count": 411,
   "id": "563143c4-9f4f-4ac3-9fd1-7b35973a3cdc",
   "metadata": {},
   "outputs": [
    {
     "name": "stdout",
     "output_type": "stream",
     "text": [
      "Iteration 20; best score so far is 0.8075         \n"
     ]
    },
    {
     "data": {
      "image/png": "[encoded data removed]",
      "text/plain": [
       "<PIL.Image.Image image mode=RGB size=200x200>"
      ]
     },
     "metadata": {},
     "output_type": "display_data"
    },
    {
     "data": {
      "image/png": "[encoded data removed]",
      "text/plain": [
       "<Figure size 432x288 with 1 Axes>"
      ]
     },
     "metadata": {
      "needs_background": "light"
     },
     "output_type": "display_data"
    }
   ],
   "source": [
    "pop, scores = evolve(pop, score3, mutate3, cross3, iters=20)\n",
    "score_history += scores\n",
    "plt.plot(score_history);\n",
    "display(get_img_for_path(pop[0]))"
   ]
  },
  {
   "cell_type": "code",
   "execution_count": 412,
   "id": "006b359f-7608-4f49-9aa2-d8250f71b174",
   "metadata": {},
   "outputs": [
    {
     "name": "stdout",
     "output_type": "stream",
     "text": [
      "Iteration 20; best score so far is 1.1125         \n"
     ]
    },
    {
     "data": {
      "image/png": "[encoded data removed]",
      "text/plain": [
       "<PIL.Image.Image image mode=RGB size=200x200>"
      ]
     },
     "metadata": {},
     "output_type": "display_data"
    },
    {
     "data": {
      "image/png": "[encoded data removed]",
      "text/plain": [
       "<Figure size 432x288 with 1 Axes>"
      ]
     },
     "metadata": {
      "needs_background": "light"
     },
     "output_type": "display_data"
    }
   ],
   "source": [
    "pop, scores = evolve(pop, score3, mutate3, cross3, iters=20)\n",
    "score_history += scores\n",
    "plt.plot(score_history);\n",
    "display(get_img_for_path(pop[0]))"
   ]
  },
  {
   "cell_type": "code",
   "execution_count": 414,
   "id": "3027d33d-8a30-43ac-91e9-20add5007a63",
   "metadata": {},
   "outputs": [
    {
     "data": {
      "text/plain": [
       "array([-0.02916949,  0.02127907, -0.05763713, -0.06496669,  0.02405859,\n",
       "       -0.06619599,  0.00881813,  0.09043008])"
      ]
     },
     "execution_count": 414,
     "metadata": {},
     "output_type": "execute_result"
    }
   ],
   "source": [
    "pop[0][::3]"
   ]
  },
  {
   "cell_type": "code",
   "execution_count": 415,
   "id": "ceb2cef1-716d-435a-bba5-6cbcf032b6b1",
   "metadata": {},
   "outputs": [
    {
     "name": "stdout",
     "output_type": "stream",
     "text": [
      "Iteration 30; best score so far is 1.3075         \n"
     ]
    },
    {
     "data": {
      "image/png": "[encoded data removed]",
      "text/plain": [
       "<PIL.Image.Image image mode=RGB size=200x200>"
      ]
     },
     "metadata": {},
     "output_type": "display_data"
    },
    {
     "data": {
      "image/png": "[encoded data removed]",
      "text/plain": [
       "<Figure size 432x288 with 1 Axes>"
      ]
     },
     "metadata": {
      "needs_background": "light"
     },
     "output_type": "display_data"
    }
   ],
   "source": [
    "pop, scores = evolve(pop, score3, mutate3, cross3, iters=30)\n",
    "score_history += scores\n",
    "plt.plot(score_history);\n",
    "display(get_img_for_path(pop[0]))"
   ]
  },
  {
   "cell_type": "code",
   "execution_count": 416,
   "id": "3d093dd2-a948-4b4e-8718-dacb0b785966",
   "metadata": {},
   "outputs": [
    {
     "name": "stdout",
     "output_type": "stream",
     "text": [
      "Iteration 20; best score so far is 1.4            \n"
     ]
    },
    {
     "data": {
      "image/png": "[encoded data removed]",
      "text/plain": [
       "<PIL.Image.Image image mode=RGB size=200x200>"
      ]
     },
     "metadata": {},
     "output_type": "display_data"
    },
    {
     "name": "stdout",
     "output_type": "stream",
     "text": [
      "CPU times: user 2min 32s, sys: 3.18 s, total: 2min 36s\n",
      "Wall time: 2min 38s\n"
     ]
    },
    {
     "data": {
      "image/png": "[encoded data removed]",
      "text/plain": [
       "<Figure size 432x288 with 1 Axes>"
      ]
     },
     "metadata": {
      "needs_background": "light"
     },
     "output_type": "display_data"
    }
   ],
   "source": [
    "%%time\n",
    "pop, scores = evolve(pop, score3, mutate3, cross3, iters=20)\n",
    "score_history += scores\n",
    "plt.plot(score_history);\n",
    "display(get_img_for_path(pop[0]))"
   ]
  },
  {
   "cell_type": "code",
   "execution_count": 417,
   "id": "f0ac28a8-95b3-4e1a-a6be-43e2e264dae0",
   "metadata": {},
   "outputs": [
    {
     "name": "stdout",
     "output_type": "stream",
     "text": [
      "Iteration 700; best score so far is 1.9675         \n"
     ]
    },
    {
     "data": {
      "image/png": "[encoded data removed]",
      "text/plain": [
       "<PIL.Image.Image image mode=RGB size=200x200>"
      ]
     },
     "metadata": {},
     "output_type": "display_data"
    },
    {
     "data": {
      "image/png": "[encoded data removed]",
      "text/plain": [
       "<Figure size 432x288 with 1 Axes>"
      ]
     },
     "metadata": {
      "needs_background": "light"
     },
     "output_type": "display_data"
    }
   ],
   "source": [
    "pop, scores = evolve(pop, score3, mutate3, cross3, iters=700)\n",
    "score_history += scores\n",
    "plt.plot(score_history);\n",
    "display(get_img_for_path(pop[0]))"
   ]
  },
  {
   "cell_type": "code",
   "execution_count": 418,
   "id": "0acea5c2-2341-4e71-88be-141b3ea718ce",
   "metadata": {},
   "outputs": [
    {
     "name": "stdout",
     "output_type": "stream",
     "text": [
      "[ 3.13637121e-02  6.88160116e-02 -1.30841623e-01  4.21066104e-04\n",
      "  1.66940519e-01 -1.04319624e-01 -1.90398830e-02 -3.29612386e-01\n",
      "  2.12420678e-01  3.35480603e-03 -2.14440749e-01  1.61515300e-01\n",
      "  1.14909222e-02 -2.13302016e-01 -1.61677315e-01  1.08009707e-02\n",
      " -5.57256472e-02  7.37715193e-02 -3.75263990e-02 -2.60789656e-01\n",
      " -5.01370067e-02  2.45787530e-01  1.33137913e+00  1.39138949e+00]\n"
     ]
    }
   ],
   "source": [
    "print(pop[0])"
   ]
  },
  {
   "cell_type": "code",
   "execution_count": 419,
   "id": "b2347c6a-39d8-493d-8af5-80bd344545f5",
   "metadata": {},
   "outputs": [
    {
     "name": "stdout",
     "output_type": "stream",
     "text": [
      "Iteration 700; best score so far is 1.9725         \n"
     ]
    },
    {
     "data": {
      "image/png": "[encoded data removed]",
      "text/plain": [
       "<PIL.Image.Image image mode=RGB size=200x200>"
      ]
     },
     "metadata": {},
     "output_type": "display_data"
    },
    {
     "data": {
      "image/png": "[encoded data removed]",
      "text/plain": [
       "<Figure size 432x288 with 1 Axes>"
      ]
     },
     "metadata": {
      "needs_background": "light"
     },
     "output_type": "display_data"
    }
   ],
   "source": [
    "pop, scores = evolve(pop, score3, mutate3, cross3, iters=700)\n",
    "score_history += scores\n",
    "plt.plot(score_history);\n",
    "display(get_img_for_path(pop[0]))"
   ]
  },
  {
   "cell_type": "code",
   "execution_count": 420,
   "id": "5f815ac9-13e6-4665-a874-8e93ea2067c3",
   "metadata": {},
   "outputs": [
    {
     "name": "stdout",
     "output_type": "stream",
     "text": [
      "Iteration 700; best score so far is 1.9725         \n"
     ]
    },
    {
     "data": {
      "image/png": "[encoded data removed]",
      "text/plain": [
       "<PIL.Image.Image image mode=RGB size=200x200>"
      ]
     },
     "metadata": {},
     "output_type": "display_data"
    },
    {
     "data": {
      "image/png": "[encoded data removed]",
      "text/plain": [
       "<Figure size 432x288 with 1 Axes>"
      ]
     },
     "metadata": {
      "needs_background": "light"
     },
     "output_type": "display_data"
    }
   ],
   "source": [
    "pop, scores = evolve(pop, score3, mutate3, cross3, iters=700)\n",
    "score_history += scores\n",
    "plt.plot(score_history);\n",
    "display(get_img_for_path(pop[0]))"
   ]
  },
  {
   "cell_type": "code",
   "execution_count": 421,
   "id": "db701f75-a762-46e5-8ab9-8d1257464fdd",
   "metadata": {},
   "outputs": [
    {
     "data": {
      "text/plain": [
       "20"
      ]
     },
     "execution_count": 421,
     "metadata": {},
     "output_type": "execute_result"
    }
   ],
   "source": [
    "HALLWAY_WIDTH"
   ]
  },
  {
   "cell_type": "code",
   "execution_count": 440,
   "id": "65b245d1-aa3f-4cea-b00a-884f3fc0971b",
   "metadata": {},
   "outputs": [],
   "source": [
    "PIXEL_SIZE = 300\n",
    "HALLWAY_WIDTH = 40"
   ]
  },
  {
   "cell_type": "code",
   "execution_count": 441,
   "id": "fe237d15-f4f9-465d-8993-5a0a9e85469e",
   "metadata": {},
   "outputs": [],
   "source": [
    "def make_transformed_hallway(T, far=30):\n",
    "    ''' This returns the image of the hallway once transformation T is applied. '''\n",
    "    \n",
    "    # Use eps to avoid integer alignment so that area estimates are more accurate.\n",
    "    eps = 0.0001\n",
    "    far = far - eps\n",
    "    one = 1   - eps\n",
    "    \n",
    "    pts = list(map(to_col, [\n",
    "        [  0,   0],\n",
    "        [far,   0],\n",
    "        [far, one],\n",
    "        [one, one],\n",
    "        [one, far],\n",
    "        [  0, far]\n",
    "    ]))\n",
    "    \n",
    "    # After applying the mathematical transformation T, we'll also\n",
    "    # convert the points from Cartesian coordinates to pixel coords.\n",
    "    \n",
    "    mid = (PIXEL_SIZE - HALLWAY_WIDTH) // 2\n",
    "    to_pixels = tr_add(mid, mid).dot(tr_scl(HALLWAY_WIDTH))\n",
    "    T = to_pixels.dot(T)\n",
    "    \n",
    "    for i in range(len(pts)):\n",
    "        pts[i] = tuple(T.dot(pts[i]).reshape(3)[:2])\n",
    "        \n",
    "    np_arr = np.zeros((PIXEL_SIZE, PIXEL_SIZE, 3))\n",
    "    im = Image.fromarray(np_arr.astype(np.uint8))\n",
    "    draw = ImageDraw.Draw(im)\n",
    "    draw.polygon(pts, fill='white')\n",
    "    \n",
    "    return im"
   ]
  },
  {
   "cell_type": "code",
   "execution_count": 442,
   "id": "97c1d14c-948f-477f-89ac-8eaeaafbb24c",
   "metadata": {},
   "outputs": [
    {
     "data": {
      "image/png": "[encoded data removed]",
      "text/plain": [
       "<PIL.Image.Image image mode=RGB size=300x300>"
      ]
     },
     "execution_count": 442,
     "metadata": {},
     "output_type": "execute_result"
    }
   ],
   "source": [
    "base_img = make_transformed_hallway(np.eye(3))\n",
    "base_img"
   ]
  },
  {
   "cell_type": "code",
   "execution_count": 443,
   "id": "d9a7a779-0535-4188-bc1d-4e429f1dbaad",
   "metadata": {},
   "outputs": [
    {
     "data": {
      "image/png": "[encoded data removed]",
      "text/plain": [
       "<PIL.Image.Image image mode=RGB size=300x300>"
      ]
     },
     "metadata": {},
     "output_type": "display_data"
    }
   ],
   "source": [
    "display(get_img_for_path(pop[0]))"
   ]
  },
  {
   "cell_type": "code",
   "execution_count": 444,
   "id": "82ca9499-49c7-4ce1-a3c3-7c60f03d5384",
   "metadata": {},
   "outputs": [
    {
     "data": {
      "text/plain": [
       "7.5"
      ]
     },
     "execution_count": 444,
     "metadata": {},
     "output_type": "execute_result"
    }
   ],
   "source": [
    "estimate_area(base_img)"
   ]
  },
  {
   "cell_type": "code",
   "execution_count": 445,
   "id": "c6c68251-bd87-469e-b79d-1fe49bfb461a",
   "metadata": {},
   "outputs": [
    {
     "data": {
      "image/png": "[encoded data removed]",
      "text/plain": [
       "<PIL.Image.Image image mode=RGB size=300x300>"
      ]
     },
     "execution_count": 445,
     "metadata": {},
     "output_type": "execute_result"
    }
   ],
   "source": [
    "# Sanity check our area estimation.\n",
    "\n",
    "A = 0.999\n",
    "\n",
    "# Make a single white square in an image.\n",
    "pts = list(map(to_col, [\n",
    "    [0, 0],\n",
    "    [A, 0],\n",
    "    [A, A],\n",
    "    [0, A]\n",
    "]))\n",
    "\n",
    "mid = (PIXEL_SIZE - HALLWAY_WIDTH) // 2\n",
    "T   = tr_add(mid, mid).dot(tr_scl(HALLWAY_WIDTH))\n",
    "\n",
    "for i in range(len(pts)):\n",
    "    pts[i] = tuple(T.dot(pts[i]).reshape(3)[:2])\n",
    "\n",
    "np_arr = np.zeros((PIXEL_SIZE, PIXEL_SIZE, 3))\n",
    "im = Image.fromarray(np_arr.astype(np.uint8))\n",
    "draw = ImageDraw.Draw(im)\n",
    "draw.polygon(pts, fill='white')\n",
    "\n",
    "im"
   ]
  },
  {
   "cell_type": "code",
   "execution_count": 446,
   "id": "ee2e97b1-fefc-4277-bfb1-f200f26b7d7d",
   "metadata": {},
   "outputs": [
    {
     "data": {
      "text/plain": [
       "1.0"
      ]
     },
     "execution_count": 446,
     "metadata": {},
     "output_type": "execute_result"
    }
   ],
   "source": [
    "estimate_area(im)"
   ]
  },
  {
   "cell_type": "code",
   "execution_count": 447,
   "id": "bef62775-a1e2-44f5-be3c-bd5049eb0c6a",
   "metadata": {},
   "outputs": [
    {
     "name": "stdout",
     "output_type": "stream",
     "text": [
      "Iteration 10; best score so far is 1.92375         \n"
     ]
    },
    {
     "data": {
      "image/png": "[encoded data removed]",
      "text/plain": [
       "<PIL.Image.Image image mode=RGB size=300x300>"
      ]
     },
     "metadata": {},
     "output_type": "display_data"
    },
    {
     "data": {
      "image/png": "[encoded data removed]",
      "text/plain": [
       "<Figure size 432x288 with 1 Axes>"
      ]
     },
     "metadata": {
      "needs_background": "light"
     },
     "output_type": "display_data"
    }
   ],
   "source": [
    "pop, scores = evolve(pop, score3, mutate3, cross3, iters=10)\n",
    "score_history += scores\n",
    "plt.plot(score_history);\n",
    "display(get_img_for_path(pop[0]))"
   ]
  },
  {
   "cell_type": "code",
   "execution_count": 448,
   "id": "362d266b-e78c-4340-9033-5b0e55d5a391",
   "metadata": {},
   "outputs": [],
   "source": [
    "def mutate3(c):\n",
    "    c = np.copy(c)\n",
    "    c += np.random.randn(len(c)) * 0.005\n",
    "    return c"
   ]
  },
  {
   "cell_type": "code",
   "execution_count": 449,
   "id": "b7028c98-f278-4bf7-ae83-81a276ace08e",
   "metadata": {},
   "outputs": [
    {
     "name": "stdout",
     "output_type": "stream",
     "text": [
      "Iteration 10; best score so far is 1.92375         \n"
     ]
    },
    {
     "data": {
      "image/png": "[encoded data removed]",
      "text/plain": [
       "<PIL.Image.Image image mode=RGB size=300x300>"
      ]
     },
     "metadata": {},
     "output_type": "display_data"
    },
    {
     "data": {
      "image/png": "[encoded data removed]",
      "text/plain": [
       "<Figure size 432x288 with 1 Axes>"
      ]
     },
     "metadata": {
      "needs_background": "light"
     },
     "output_type": "display_data"
    }
   ],
   "source": [
    "pop, scores = evolve(pop, score3, mutate3, cross3, iters=10)\n",
    "score_history += scores\n",
    "plt.plot(score_history);\n",
    "display(get_img_for_path(pop[0]))"
   ]
  },
  {
   "cell_type": "code",
   "execution_count": 451,
   "id": "98452c04-0a48-4e10-a5bb-4cec10b13d35",
   "metadata": {},
   "outputs": [
    {
     "name": "stdout",
     "output_type": "stream",
     "text": [
      "[ 0.04314511  0.00432926 -0.03643599 -0.0013096   0.01399289  0.02746047\n",
      " -0.04634946  0.25515195]\n"
     ]
    }
   ],
   "source": [
    "print(pop[0][::3])"
   ]
  },
  {
   "cell_type": "code",
   "execution_count": 454,
   "id": "919226d6-beb4-45cf-85f8-822ae532d6de",
   "metadata": {},
   "outputs": [
    {
     "data": {
      "text/plain": [
       "0.003076578757695158"
      ]
     },
     "execution_count": 454,
     "metadata": {},
     "output_type": "execute_result"
    }
   ],
   "source": [
    "np.sum(pop[0][:-3:3]) / (pi / 2)"
   ]
  },
  {
   "cell_type": "code",
   "execution_count": 455,
   "id": "d5be96b6-4969-45f0-882d-4440c021fe32",
   "metadata": {},
   "outputs": [
    {
     "data": {
      "text/plain": [
       "array([1.3424639 , 1.41399961])"
      ]
     },
     "execution_count": 455,
     "metadata": {},
     "output_type": "execute_result"
    }
   ],
   "source": [
    "pop[0][-2:]"
   ]
  },
  {
   "cell_type": "code",
   "execution_count": 462,
   "id": "c96f0fee-54c5-4f12-ae0f-30bf50f99240",
   "metadata": {},
   "outputs": [
    {
     "data": {
      "text/plain": [
       "1.91125"
      ]
     },
     "execution_count": 462,
     "metadata": {},
     "output_type": "execute_result"
    }
   ],
   "source": [
    "estimate_area(get_img_for_path([0, 0, 0, 0, 1.39, 1.39]))"
   ]
  },
  {
   "cell_type": "markdown",
   "id": "a53dbbd1-8d93-4eaf-91f8-08b332a64439",
   "metadata": {},
   "source": [
    "## Try a different initial seed"
   ]
  },
  {
   "cell_type": "code",
   "execution_count": 473,
   "id": "70031edb-cbe1-4c27-9a14-2b073bc8b604",
   "metadata": {},
   "outputs": [
    {
     "data": {
      "text/plain": [
       "array([0.12567623, 0.53522847, 0.59779294, 0.36488452, 0.18117236,\n",
       "       0.83044196, 0.57275256, 0.00175972, 0.42744425, 0.47130477,\n",
       "       0.08529207, 1.05107472, 0.79307364, 0.35323196, 0.30027036,\n",
       "       0.10509905, 0.52769757, 0.16914866, 0.03002459, 0.16328333,\n",
       "       0.6431454 , 0.00128365, 0.21061967, 0.64569643])"
      ]
     },
     "execution_count": 473,
     "metadata": {},
     "output_type": "execute_result"
    }
   ],
   "source": [
    "# The initial critter.\n",
    "pop = [np.abs(np.random.randn(24) * .5)]\n",
    "pop[0]"
   ]
  },
  {
   "cell_type": "code",
   "execution_count": 474,
   "id": "b5156658-295e-44af-8bf5-25096cdff7d4",
   "metadata": {},
   "outputs": [
    {
     "data": {
      "image/png": "[encoded data removed]",
      "text/plain": [
       "<PIL.Image.Image image mode=RGB size=300x300>"
      ]
     },
     "execution_count": 474,
     "metadata": {},
     "output_type": "execute_result"
    }
   ],
   "source": [
    "get_img_for_path(pop[0])"
   ]
  },
  {
   "cell_type": "code",
   "execution_count": 475,
   "id": "291e6d72-edbb-4227-84d7-421e69b95120",
   "metadata": {},
   "outputs": [],
   "source": [
    "RATE = 1"
   ]
  },
  {
   "cell_type": "code",
   "execution_count": 476,
   "id": "8377a054-fbf2-4391-a361-18d3c7a4c49b",
   "metadata": {},
   "outputs": [],
   "source": [
    "def mutate3(c):\n",
    "    global RATE\n",
    "    c = np.copy(c)\n",
    "    c += np.random.randn(len(c)) * RATE\n",
    "    return c"
   ]
  },
  {
   "cell_type": "code",
   "execution_count": 477,
   "id": "c1ccc314-c963-41cd-89ee-6e5da587ea1f",
   "metadata": {},
   "outputs": [],
   "source": [
    "score_history = []"
   ]
  },
  {
   "cell_type": "code",
   "execution_count": 479,
   "id": "a134a38d-bba9-4d7f-9e44-a95fa99cf6ce",
   "metadata": {},
   "outputs": [
    {
     "name": "stdout",
     "output_type": "stream",
     "text": [
      "Iteration 10; best score so far is 0.931875         \n"
     ]
    },
    {
     "data": {
      "image/png": "[encoded data removed]",
      "text/plain": [
       "<PIL.Image.Image image mode=RGB size=300x300>"
      ]
     },
     "metadata": {},
     "output_type": "display_data"
    },
    {
     "data": {
      "image/png": "[encoded data removed]",
      "text/plain": [
       "<Figure size 432x288 with 1 Axes>"
      ]
     },
     "metadata": {
      "needs_background": "light"
     },
     "output_type": "display_data"
    }
   ],
   "source": [
    "pop, scores = evolve(pop, score3, mutate3, cross3, iters=10)\n",
    "score_history += scores\n",
    "plt.plot(score_history);\n",
    "display(get_img_for_path(pop[0]))"
   ]
  },
  {
   "cell_type": "code",
   "execution_count": 480,
   "id": "78079c97-4f14-457e-9596-0edb80a1c731",
   "metadata": {},
   "outputs": [],
   "source": [
    "RATE = 0.5"
   ]
  },
  {
   "cell_type": "code",
   "execution_count": 481,
   "id": "36e684e1-96fc-4fb1-b532-654045cf7f05",
   "metadata": {},
   "outputs": [
    {
     "name": "stdout",
     "output_type": "stream",
     "text": [
      "Iteration 5; best score so far is 1.2325           \n"
     ]
    },
    {
     "data": {
      "image/png": "[encoded data removed]",
      "text/plain": [
       "<PIL.Image.Image image mode=RGB size=300x300>"
      ]
     },
     "metadata": {},
     "output_type": "display_data"
    },
    {
     "data": {
      "image/png": "[encoded data removed]",
      "text/plain": [
       "<Figure size 432x288 with 1 Axes>"
      ]
     },
     "metadata": {
      "needs_background": "light"
     },
     "output_type": "display_data"
    }
   ],
   "source": [
    "pop, scores = evolve(pop, score3, mutate3, cross3, iters=5)\n",
    "score_history += scores\n",
    "plt.plot(score_history);\n",
    "display(get_img_for_path(pop[0]))"
   ]
  },
  {
   "cell_type": "code",
   "execution_count": 482,
   "id": "d028291e-2122-43af-9538-43b9d4e6f6f0",
   "metadata": {},
   "outputs": [],
   "source": [
    "RATE = 0.4"
   ]
  },
  {
   "cell_type": "code",
   "execution_count": 483,
   "id": "250065f1-1ed5-4f50-934f-abe8c6e8b567",
   "metadata": {},
   "outputs": [
    {
     "name": "stdout",
     "output_type": "stream",
     "text": [
      "Iteration 5; best score so far is 1.2525           \n"
     ]
    },
    {
     "data": {
      "image/png": "[encoded data removed]",
      "text/plain": [
       "<PIL.Image.Image image mode=RGB size=300x300>"
      ]
     },
     "metadata": {},
     "output_type": "display_data"
    },
    {
     "data": {
      "image/png": "[encoded data removed]",
      "text/plain": [
       "<Figure size 432x288 with 1 Axes>"
      ]
     },
     "metadata": {
      "needs_background": "light"
     },
     "output_type": "display_data"
    }
   ],
   "source": [
    "pop, scores = evolve(pop, score3, mutate3, cross3, iters=5)\n",
    "score_history += scores\n",
    "plt.plot(score_history);\n",
    "display(get_img_for_path(pop[0]))"
   ]
  },
  {
   "cell_type": "code",
   "execution_count": 484,
   "id": "eb32f671-77a4-4749-90cb-38c0ad308161",
   "metadata": {},
   "outputs": [],
   "source": [
    "RATE = 0.1"
   ]
  },
  {
   "cell_type": "code",
   "execution_count": 485,
   "id": "7395e5a9-62fd-4a87-a6f8-1dd8d0371d50",
   "metadata": {},
   "outputs": [
    {
     "name": "stdout",
     "output_type": "stream",
     "text": [
      "Iteration 100; best score so far is 2.005           \n"
     ]
    },
    {
     "data": {
      "image/png": "[encoded data removed]",
      "text/plain": [
       "<PIL.Image.Image image mode=RGB size=300x300>"
      ]
     },
     "metadata": {},
     "output_type": "display_data"
    },
    {
     "data": {
      "image/png": "[encoded data removed]",
      "text/plain": [
       "<Figure size 432x288 with 1 Axes>"
      ]
     },
     "metadata": {
      "needs_background": "light"
     },
     "output_type": "display_data"
    }
   ],
   "source": [
    "pop, scores = evolve(pop, score3, mutate3, cross3, iters=100)\n",
    "score_history += scores\n",
    "plt.plot(score_history);\n",
    "display(get_img_for_path(pop[0]))"
   ]
  },
  {
   "cell_type": "code",
   "execution_count": 487,
   "id": "572c80a4-4c1b-42d0-8147-f18d17688944",
   "metadata": {},
   "outputs": [
    {
     "data": {
      "image/png": "[encoded data removed]",
      "text/plain": [
       "<Figure size 432x288 with 1 Axes>"
      ]
     },
     "metadata": {
      "needs_background": "light"
     },
     "output_type": "display_data"
    }
   ],
   "source": [
    "plt.plot(score_history[-50:]);"
   ]
  },
  {
   "cell_type": "code",
   "execution_count": 488,
   "id": "578e2019-d20f-4e81-b2c4-d92e4ca57e12",
   "metadata": {},
   "outputs": [],
   "source": [
    "RATE = 0.05"
   ]
  },
  {
   "cell_type": "code",
   "execution_count": 489,
   "id": "103512b4-ccc7-40d4-9d11-c370208976be",
   "metadata": {},
   "outputs": [
    {
     "name": "stdout",
     "output_type": "stream",
     "text": [
      "Iteration 100; best score so far is 2.1425          \n"
     ]
    },
    {
     "data": {
      "image/png": "[encoded data removed]",
      "text/plain": [
       "<PIL.Image.Image image mode=RGB size=300x300>"
      ]
     },
     "metadata": {},
     "output_type": "display_data"
    },
    {
     "data": {
      "image/png": "[encoded data removed]",
      "text/plain": [
       "<Figure size 432x288 with 1 Axes>"
      ]
     },
     "metadata": {
      "needs_background": "light"
     },
     "output_type": "display_data"
    }
   ],
   "source": [
    "pop, scores = evolve(pop, score3, mutate3, cross3, iters=100)\n",
    "score_history += scores\n",
    "plt.plot(score_history);\n",
    "display(get_img_for_path(pop[0]))"
   ]
  },
  {
   "cell_type": "code",
   "execution_count": 490,
   "id": "cef10cc5-be63-4106-ab24-2467bc37b956",
   "metadata": {},
   "outputs": [
    {
     "name": "stdout",
     "output_type": "stream",
     "text": [
      "Iteration 200; best score so far is 2.143125         \n"
     ]
    },
    {
     "data": {
      "image/png": "[encoded data removed]",
      "text/plain": [
       "<PIL.Image.Image image mode=RGB size=300x300>"
      ]
     },
     "metadata": {},
     "output_type": "display_data"
    },
    {
     "data": {
      "image/png": "[encoded data removed]",
      "text/plain": [
       "<Figure size 432x288 with 1 Axes>"
      ]
     },
     "metadata": {
      "needs_background": "light"
     },
     "output_type": "display_data"
    }
   ],
   "source": [
    "pop, scores = evolve(pop, score3, mutate3, cross3, iters=200)\n",
    "score_history += scores\n",
    "plt.plot(score_history);\n",
    "display(get_img_for_path(pop[0]))"
   ]
  },
  {
   "cell_type": "code",
   "execution_count": 491,
   "id": "266d9abc-e0a7-4226-8d33-3ad03370174a",
   "metadata": {},
   "outputs": [
    {
     "data": {
      "text/plain": [
       "array([ 1.10026070e-03,  6.83911924e-01,  1.74552474e+00,  1.03048991e+00,\n",
       "        1.85877556e+00,  1.39136646e+00,  4.21215610e-01,  9.65257854e-01,\n",
       "        1.22002430e+00,  1.04717876e-02,  5.08274198e-01,  8.39421833e-01,\n",
       "       -4.53411185e-02,  1.06226739e+00, -8.20366359e-02,  1.00589688e-01,\n",
       "        1.00983588e+00,  5.48267223e-01,  2.68247403e-02,  2.09826777e-02,\n",
       "        2.19799909e-01, -5.15516353e-01,  7.44928745e-01,  2.15703933e-01])"
      ]
     },
     "execution_count": 491,
     "metadata": {},
     "output_type": "execute_result"
    }
   ],
   "source": [
    "pop[0]"
   ]
  },
  {
   "cell_type": "code",
   "execution_count": 493,
   "id": "f33f6e11-d7a0-42b3-a1d8-7d37ed2d38a4",
   "metadata": {},
   "outputs": [],
   "source": [
    "with open('8_turn_path.json', 'w') as f:\n",
    "    json.dump(list(pop[0]), f)"
   ]
  },
  {
   "cell_type": "code",
   "execution_count": 494,
   "id": "b7d36d29-ab0f-4735-b8f8-27ae7d338588",
   "metadata": {},
   "outputs": [
    {
     "name": "stdout",
     "output_type": "stream",
     "text": [
      "8_turn_path.json     three_turn_path.json\n"
     ]
    }
   ],
   "source": [
    "!ls *.json"
   ]
  },
  {
   "cell_type": "code",
   "execution_count": null,
   "id": "b73b981b-88fb-4002-8510-b83d8f9b5d01",
   "metadata": {},
   "outputs": [],
   "source": []
  }
 ],
 "metadata": {
  "kernelspec": {
   "display_name": "Python 3 (ipykernel)",
   "language": "python",
   "name": "python3"
  },
  "language_info": {
   "codemirror_mode": {
    "name": "ipython",
    "version": 3
   },
   "file_extension": ".py",
   "mimetype": "text/x-python",
   "name": "python",
   "nbconvert_exporter": "python",
   "pygments_lexer": "ipython3",
   "version": "3.9.15"
  }
 },
 "nbformat": 4,
 "nbformat_minor": 5
}
